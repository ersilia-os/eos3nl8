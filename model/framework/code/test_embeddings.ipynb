{
 "cells": [
  {
   "cell_type": "markdown",
   "metadata": {},
   "source": [
    "# Testing with the Original Embeddings from the CSV file and the Embeddings from the Morgan Fingerprint model"
   ]
  },
  {
   "cell_type": "markdown",
   "metadata": {},
   "source": [
    "## COVID-19 Drug Repurposing via disease-compounds relations\n",
    "This example shows how to do drug repurposing using DRKG even with the pretrained model."
   ]
  },
  {
   "cell_type": "code",
   "execution_count": null,
   "metadata": {},
   "outputs": [],
   "source": [
    "import csv\n",
    "import numpy as np\n",
    "import pandas as pd\n",
    "import sys\n",
    "import torch as th\n",
    "import torch.nn.functional as fn\n",
    "\n",
    "import tensorflow as tf\n",
    "from tensorflow import keras\n",
    "from rdkit import Chem\n",
    "from rdkit.Chem import AllChem\n",
    "from rdkit.Chem import rdMolDescriptors as rd\n",
    "from eosce.models import ErsiliaCompoundEmbeddings"
   ]
  },
  {
   "cell_type": "markdown",
   "metadata": {},
   "source": [
    "## Collecting COVID-19 related disease\n",
    "At the very beginning we need to collect a list of disease of Corona-Virus(COV) in DRKG. We can easily use the Disease ID that DRKG uses for encoding the disease. Here we take all of the COV disease as target."
   ]
  },
  {
   "cell_type": "code",
   "execution_count": 2,
   "metadata": {},
   "outputs": [],
   "source": [
    "COV_disease_list = [\n",
    "'Disease::SARS-CoV2 E',\n",
    "'Disease::SARS-CoV2 M',\n",
    "'Disease::SARS-CoV2 N',\n",
    "'Disease::SARS-CoV2 Spike',\n",
    "'Disease::SARS-CoV2 nsp1',\n",
    "'Disease::SARS-CoV2 nsp10',\n",
    "'Disease::SARS-CoV2 nsp11',\n",
    "'Disease::SARS-CoV2 nsp12',\n",
    "'Disease::SARS-CoV2 nsp13',\n",
    "'Disease::SARS-CoV2 nsp14',\n",
    "'Disease::SARS-CoV2 nsp15',\n",
    "'Disease::SARS-CoV2 nsp2',\n",
    "'Disease::SARS-CoV2 nsp4',\n",
    "'Disease::SARS-CoV2 nsp5',\n",
    "'Disease::SARS-CoV2 nsp5_C145A',\n",
    "'Disease::SARS-CoV2 nsp6',\n",
    "'Disease::SARS-CoV2 nsp7',\n",
    "'Disease::SARS-CoV2 nsp8',\n",
    "'Disease::SARS-CoV2 nsp9',\n",
    "'Disease::SARS-CoV2 orf10',\n",
    "'Disease::SARS-CoV2 orf3a',\n",
    "'Disease::SARS-CoV2 orf3b',\n",
    "'Disease::SARS-CoV2 orf6',\n",
    "'Disease::SARS-CoV2 orf7a',\n",
    "'Disease::SARS-CoV2 orf8',\n",
    "'Disease::SARS-CoV2 orf9b',\n",
    "'Disease::SARS-CoV2 orf9c',\n",
    "'Disease::MESH:D045169',\n",
    "'Disease::MESH:D045473',\n",
    "'Disease::MESH:D001351',\n",
    "'Disease::MESH:D065207',\n",
    "'Disease::MESH:D028941',\n",
    "'Disease::MESH:D058957',\n",
    "'Disease::MESH:D006517'\n",
    "]"
   ]
  },
  {
   "cell_type": "markdown",
   "metadata": {},
   "source": [
    "## Treatment relation"
   ]
  },
  {
   "cell_type": "markdown",
   "metadata": {},
   "source": [
    "Two treatment relations in this context"
   ]
  },
  {
   "cell_type": "code",
   "execution_count": 3,
   "metadata": {},
   "outputs": [],
   "source": [
    "treatment = ['Hetionet::CtD::Compound:Disease','GNBR::T::Compound:Disease']"
   ]
  },
  {
   "cell_type": "markdown",
   "metadata": {},
   "source": [
    "## Using Original Embeddings"
   ]
  },
  {
   "cell_type": "code",
   "execution_count": 4,
   "metadata": {},
   "outputs": [
    {
     "name": "stdout",
     "output_type": "stream",
     "text": [
      "[[-0.27149197 -0.5939862  -0.37011808 ... -0.50732565  0.15921181\n",
      "  -0.67021894]\n",
      " [-0.4293835  -0.35515165 -0.45263517 ...  0.6304008   0.44173548\n",
      "  -0.43939406]\n",
      " [-0.6724328  -0.2223129  -0.5301088  ...  0.37865484  0.36450392\n",
      "  -0.3003229 ]\n",
      " ...\n",
      " [ 0.16583948  0.6799841  -0.5094551  ... -0.6383422  -0.52847636\n",
      "  -0.60481673]\n",
      " [ 0.5265029   0.631999   -0.58314145 ...  0.52151537 -0.53969806\n",
      "   0.5051691 ]\n",
      " [-0.5288267  -0.43796182 -0.6211387  ... -0.58782583 -0.57391274\n",
      "  -0.54813313]]\n"
     ]
    }
   ],
   "source": [
    "# Read the input file with the SMILES and original embedding columns\n",
    "input_df = pd.read_csv('smiles_embeddings_infer_drugs.csv')\n",
    "drug_smiles = input_df['SMILES']\n",
    "original_embeddings = input_df.iloc[:, 3:].values\n",
    "print(original_embeddings)"
   ]
  },
  {
   "cell_type": "markdown",
   "metadata": {},
   "source": [
    "To reproduce the authors' code, I need the drug bank ID. So I will create a mapping that gets the drugbank ID of a molecule from the SMILES. I'm using the `drugbank_info/drugbank_smiles.txt` file for the mapping.\n",
    "\n",
    "The dictionary will look like this {'CCCC': 'Compound::DB000'}\n",
    "\n",
    "The limitation here is that the new input SMILES may not have an associated DrugBank ID that's in the `drugbank_info/drugbank_smiles.txt` file."
   ]
  },
  {
   "cell_type": "code",
   "execution_count": 5,
   "metadata": {},
   "outputs": [],
   "source": [
    "# Read the content of the text file\n",
    "with open('drugbank_smiles.txt', 'r') as file:\n",
    "    file_content = file.read()\n",
    "\n",
    "# Split the content into lines and iterate over them\n",
    "lines = file_content.split('\\n')\n",
    "drugbank_dict = {}\n",
    "\n",
    "for line in lines:\n",
    "    # Split each line into SMILES and DrugBank ID\n",
    "    fields = line.split('\\t')\n",
    "    \n",
    "    if len(fields) == 2:\n",
    "        smiles = fields[1]\n",
    "        drugbank_id = 'Compound::' + fields[0]\n",
    "        # Add the SMILES and DrugBank ID to the dictionary\n",
    "        drugbank_dict[smiles] = drugbank_id\n",
    "\n",
    "# flip the drugbank_dict so we can get the SMILES from the drugbank ID\n",
    "smiles_dict = {value: key for key, value in drugbank_dict.items()}\n",
    "\n",
    "# Print the resulting dictionary\n",
    "# print(drugbank_dict)"
   ]
  },
  {
   "cell_type": "code",
   "execution_count": 6,
   "metadata": {},
   "outputs": [
    {
     "name": "stdout",
     "output_type": "stream",
     "text": [
      "There are 6521 input drugbank ID before filtering out None\n",
      "There are 6521 input drugbank ID after filtering out None\n",
      "['Compound::DB00605', 'Compound::DB00983', 'Compound::DB01240', 'Compound::DB11755', 'Compound::DB12184']\n"
     ]
    }
   ],
   "source": [
    "# Get a list of the drugs in the input file\n",
    "drug_list = []\n",
    "\n",
    "# Use the SMILES to extract the drugBank ID and append it to the list\n",
    "for smiles in drug_smiles:\n",
    "    drug_list.append(drugbank_dict.get(smiles))\n",
    "\n",
    "# An edge case is that the list could contain None values\n",
    "print('There are', len(drug_list), 'input drugbank ID before filtering out None')\n",
    "drug_list = list(filter(lambda x: x is not None, drug_list))\n",
    "print('There are', len(drug_list), 'input drugbank ID after filtering out None')\n",
    "print(drug_list[:5])"
   ]
  },
  {
   "cell_type": "code",
   "execution_count": 103,
   "metadata": {},
   "outputs": [
    {
     "data": {
      "text/plain": [
       "tensor([[-0.2715, -0.5940, -0.3701,  ..., -0.5073,  0.1592, -0.6702],\n",
       "        [-0.4294, -0.3552, -0.4526,  ...,  0.6304,  0.4417, -0.4394],\n",
       "        [-0.6724, -0.2223, -0.5301,  ...,  0.3787,  0.3645, -0.3003],\n",
       "        ...,\n",
       "        [ 0.1658,  0.6800, -0.5095,  ..., -0.6383, -0.5285, -0.6048],\n",
       "        [ 0.5265,  0.6320, -0.5831,  ...,  0.5215, -0.5397,  0.5052],\n",
       "        [-0.5288, -0.4380, -0.6211,  ..., -0.5878, -0.5739, -0.5481]])"
      ]
     },
     "metadata": {},
     "output_type": "display_data"
    },
    {
     "data": {
      "text/plain": [
       "tensor([[-0.2715, -0.5940, -0.3701,  ..., -0.5073,  0.1592, -0.6702],\n",
       "        [-0.4294, -0.3552, -0.4526,  ...,  0.6304,  0.4417, -0.4394],\n",
       "        [-0.6724, -0.2223, -0.5301,  ...,  0.3787,  0.3645, -0.3003],\n",
       "        ...,\n",
       "        [ 0.1658,  0.6800, -0.5095,  ..., -0.6383, -0.5285, -0.6048],\n",
       "        [ 0.5265,  0.6320, -0.5831,  ...,  0.5215, -0.5397,  0.5052],\n",
       "        [-0.5288, -0.4380, -0.6211,  ..., -0.5878, -0.5739, -0.5481]],\n",
       "       dtype=torch.float64)"
      ]
     },
     "metadata": {},
     "output_type": "display_data"
    },
    {
     "name": "stdout",
     "output_type": "stream",
     "text": [
      "6521\n",
      "6521\n"
     ]
    }
   ],
   "source": [
    "# # Quick check to make sure my embeddings from the dataset match the original embeddings from drkg\n",
    "# entity_idmap_file = '../data/embed/entities.tsv'\n",
    "# entity_map = {}\n",
    "# entity_id_map = {}\n",
    "   \n",
    "# with open(entity_idmap_file, newline='', encoding='utf-8') as csvfile:\n",
    "#     reader = csv.DictReader(csvfile, delimiter='\\t', fieldnames=['name', 'id'])\n",
    "#     for row_val in reader:\n",
    "#         entity_map[row_val['name']] = int(row_val['id'])\n",
    "#         entity_id_map[int(row_val['id'])] = row_val['name']\n",
    "\n",
    "# entity_emb = np.load('../data/embed/DRKG_TransE_l2_entity.npy')\n",
    "# drug_ids = [entity_map[drug] for drug in drug_list]\n",
    "# drug_ids = th.tensor(drug_ids).long()\n",
    "# drug_emb = th.tensor(entity_emb[drug_ids]) # embedding from knowledge graph\n",
    "\n",
    "# my_drug_emb = th.tensor(original_embeddings) # my extracted embeddings\n",
    "# display(drug_emb)\n",
    "# display(my_drug_emb)\n",
    "\n",
    "# print(len(drug_emb))\n",
    "# print(len(my_drug_emb))"
   ]
  },
  {
   "cell_type": "code",
   "execution_count": 7,
   "metadata": {},
   "outputs": [],
   "source": [
    "gamma = 12.0\n",
    "\n",
    "def transE_l2(head, rel, tail):\n",
    "    score = head + rel - tail\n",
    "    return gamma - th.norm(score, p=2, dim=-1)\n",
    "\n",
    "\n",
    "def edge_score(embeddings):\n",
    "    '''Function to calculate the edge scores.\n",
    "\n",
    "    Argument\n",
    "    ---------\n",
    "    embeddings (array). Array of size 400 containing \n",
    "            the embeddings of the SMILES molecule.\n",
    "\n",
    "    Returns\n",
    "    --------\n",
    "    scores (tensor). Tensor showing the edge score for \n",
    "            each disease based on the drug_embeddings, relation_embeddings,\n",
    "            and COVID_disease embeddings.\n",
    "    '''\n",
    "    \n",
    "    # Load entity and relation mapping files\n",
    "    entity_idmap_file = '../data/embed/entities.tsv'\n",
    "    relation_idmap_file = '../data/embed/relations.tsv'\n",
    "\n",
    "    # Get drugname/disease name to entity ID mappings\n",
    "    entity_map = {}\n",
    "    entity_id_map = {}\n",
    "    relation_map = {}\n",
    "    \n",
    "    with open(entity_idmap_file, newline='', encoding='utf-8') as csvfile:\n",
    "        reader = csv.DictReader(csvfile, delimiter='\\t', fieldnames=['name', 'id'])\n",
    "        for row_val in reader:\n",
    "            entity_map[row_val['name']] = int(row_val['id'])\n",
    "            entity_id_map[int(row_val['id'])] = row_val['name']\n",
    "\n",
    "    with open(relation_idmap_file, newline='', encoding='utf-8') as csvfile:\n",
    "        reader = csv.DictReader(csvfile, delimiter='\\t', fieldnames=['name', 'id'])\n",
    "        for row_val in reader:\n",
    "            relation_map[row_val['name']] = int(row_val['id'])\n",
    "\n",
    "    # Handle the ID mapping\n",
    "    drug_ids = [entity_map[drug] for drug in drug_list]\n",
    "    disease_ids = [entity_map[disease] for disease in COV_disease_list]\n",
    "    treatment_rid = [relation_map[treat] for treat in treatment]\n",
    "\n",
    "    # Load embeddings\n",
    "    entity_emb = np.load('../data/embed/DRKG_TransE_l2_entity.npy')\n",
    "    rel_emb = np.load('../data/embed/DRKG_TransE_l2_relation.npy')\n",
    "\n",
    "    drug_ids = th.tensor(drug_ids).long()\n",
    "    disease_ids = th.tensor(disease_ids).long()\n",
    "    treatment_rid = th.tensor(treatment_rid)\n",
    "\n",
    "    # Use our model's embeddings here\n",
    "    drug_emb = th.tensor(embeddings)\n",
    "    # drug_emb = th.tensor(entity_emb[drug_ids]) # get embeddings from knowledge graph\n",
    "    \n",
    "    treatment_embs = [th.tensor(rel_emb[rid]) for rid in treatment_rid]\n",
    "\n",
    "    scores_per_disease = []\n",
    "    dids = []\n",
    "    for rid in range(len(treatment_embs)):\n",
    "        treatment_emb=treatment_embs[rid]\n",
    "        for disease_id in disease_ids:\n",
    "            disease_emb = entity_emb[disease_id]\n",
    "            score = fn.logsigmoid(transE_l2(drug_emb, treatment_emb, disease_emb))\n",
    "            scores_per_disease.append(score)\n",
    "            dids.append(drug_ids)\n",
    "    scores = th.cat(scores_per_disease)\n",
    "    dids = th.cat(dids)\n",
    "    \n",
    "    # Sort scores in descending order\n",
    "    idx = th.flip(th.argsort(scores), dims=[0])\n",
    "    scores = scores[idx].numpy()\n",
    "    dids = dids[idx].numpy()\n",
    "\n",
    "    # Now we output proposed treatments\n",
    "    _, unique_indices = np.unique(dids, return_index=True)\n",
    "    topk=100\n",
    "    topk_indices = np.sort(unique_indices)[:topk]\n",
    "    proposed_dids = dids[topk_indices]\n",
    "    proposed_scores = scores[topk_indices]\n",
    "\n",
    "    # Now we list the pairs in the form of (drug, treat, disease, score)\n",
    "    # We select the top K relevant drugs according to the edge score\n",
    "    edge_score_dict = {}\n",
    "    for i in range(topk):\n",
    "        drug = int(proposed_dids[i])\n",
    "        score = proposed_scores[i]\n",
    "        edge_score_dict.update({smiles_dict.get(entity_id_map[drug]): score})\n",
    "        # remove the print function later\n",
    "        print(\"{}\\t{}\".format(entity_id_map[drug], score))\n",
    "        # show the smiles and the score\n",
    "        # print(\"{}\\t{}\\t{}\".format(smiles_dict.get(entity_id_map[drug]), entity_id_map[drug], score))\n",
    "                    \n",
    "    return edge_score_dict"
   ]
  },
  {
   "cell_type": "code",
   "execution_count": 10,
   "metadata": {},
   "outputs": [
    {
     "name": "stdout",
     "output_type": "stream",
     "text": [
      "6521\n",
      "Compound::DB00811\t-0.21416790981372616\n",
      "Compound::DB00993\t-0.835088998203896\n",
      "Compound::DB00635\t-0.8974785851566892\n",
      "Compound::DB01082\t-0.9854882290451629\n",
      "Compound::DB01234\t-0.9984012514597904\n",
      "Compound::DB00982\t-1.0160717658176406\n",
      "Compound::DB00563\t-1.018946852539912\n",
      "Compound::DB00290\t-1.0641067344374928\n",
      "Compound::DB01394\t-1.0806760468321792\n",
      "Compound::DB01222\t-1.0845477037354971\n",
      "Compound::DB00415\t-1.0853976195309496\n",
      "Compound::DB01004\t-1.096669807865025\n",
      "Compound::DB00860\t-1.1004784467889137\n",
      "Compound::DB00681\t-1.1011557352112846\n",
      "Compound::DB00688\t-1.1256872785724772\n",
      "Compound::DB00624\t-1.1428297627951873\n",
      "Compound::DB00959\t-1.1618414920458742\n",
      "Compound::DB00115\t-1.186812089630245\n",
      "Compound::DB00091\t-1.1906721734060766\n",
      "Compound::DB01024\t-1.2051163728597931\n",
      "Compound::DB00741\t-1.2147067702585472\n",
      "Compound::DB00441\t-1.2320411184654292\n",
      "Compound::DB00158\t-1.2346547610031624\n",
      "Compound::DB00499\t-1.2525165420743032\n",
      "Compound::DB00929\t-1.273049804221849\n",
      "Compound::DB00770\t-1.282553108383881\n",
      "Compound::DB01331\t-1.2960491821701947\n",
      "Compound::DB02527\t-1.3034365693235936\n",
      "Compound::DB00196\t-1.3053347908631219\n",
      "Compound::DB00537\t-1.3131842480345761\n",
      "Compound::DB00644\t-1.3131849724524163\n",
      "Compound::DB01048\t-1.3267210243450949\n",
      "Compound::DB00552\t-1.327208597535659\n",
      "Compound::DB00328\t-1.3286101366722414\n",
      "Compound::DB00171\t-1.3300388333484237\n",
      "Compound::DB01212\t-1.3330763387427926\n",
      "Compound::DB09093\t-1.3382980545585774\n",
      "Compound::DB00783\t-1.3385635394536701\n",
      "Compound::DB09341\t-1.3396947864276556\n",
      "Compound::DB00558\t-1.3425899675699393\n",
      "Compound::DB05382\t-1.3575103285433907\n",
      "Compound::DB01112\t-1.3584489170967262\n",
      "Compound::DB01101\t-1.3815497097244465\n",
      "Compound::DB01165\t-1.383814895285892\n",
      "Compound::DB01183\t-1.3862138755161943\n",
      "Compound::DB00815\t-1.3863468100431258\n",
      "Compound::DB00755\t-1.388179715227816\n",
      "Compound::DB00198\t-1.3885041864319752\n",
      "Compound::DB00480\t-1.3935296332816212\n",
      "Compound::DB00806\t-1.3996553200254676\n",
      "Compound::DB01656\t-1.39997308758269\n",
      "Compound::DB00759\t-1.4046530516227214\n",
      "Compound::DB00917\t-1.4116044532496004\n",
      "Compound::DB01181\t-1.414889692373129\n",
      "Compound::DB01039\t-1.4176593073615606\n",
      "Compound::DB00512\t-1.4207411155466882\n",
      "Compound::DB01233\t-1.4211871567192718\n",
      "Compound::DB11996\t-1.4257907429899233\n",
      "Compound::DB00738\t-1.4274103621468428\n",
      "Compound::DB00716\t-1.432749841023438\n",
      "Compound::DB03461\t-1.4379275377674008\n",
      "Compound::DB00591\t-1.4404353404787682\n",
      "Compound::DB01327\t-1.4408747162188575\n",
      "Compound::DB00131\t-1.4446901086635378\n",
      "Compound::DB00693\t-1.446075369489549\n",
      "Compound::DB00369\t-1.4505727809351612\n",
      "Compound::DB04630\t-1.4531157913183321\n",
      "Compound::DB00878\t-1.4564689949685037\n",
      "Compound::DB08818\t-1.4633685122788707\n",
      "Compound::DB00682\t-1.4691758081743882\n",
      "Compound::DB01068\t-1.470010057395924\n",
      "Compound::DB00446\t-1.4720208154365633\n",
      "Compound::DB01115\t-1.472985357590512\n",
      "Compound::DB00355\t-1.4770018987049767\n",
      "Compound::DB01030\t-1.48506984527755\n",
      "Compound::DB00620\t-1.4973492929978023\n",
      "Compound::DB00396\t-1.4976938323751243\n",
      "Compound::DB01073\t-1.4987040573340908\n",
      "Compound::DB00640\t-1.5026202277615452\n",
      "Compound::DB00999\t-1.5034271704975255\n",
      "Compound::DB01060\t-1.5043616358922698\n",
      "Compound::DB00493\t-1.5072380620490424\n",
      "Compound::DB01240\t-1.5090977242981896\n",
      "Compound::DB00364\t-1.509947108499631\n",
      "Compound::DB01263\t-1.5119920438731982\n",
      "Compound::DB00746\t-1.5130662046000374\n",
      "Compound::DB00718\t-1.518311878451104\n",
      "Compound::DB01065\t-1.520716184602828\n",
      "Compound::DB01205\t-1.5212777494673018\n",
      "Compound::DB01137\t-1.5229606219947367\n",
      "Compound::DB00813\t-1.530871028007928\n",
      "Compound::DB01157\t-1.5316545829855357\n",
      "Compound::DB04570\t-1.5430860255268986\n",
      "Compound::DB00459\t-1.5503196486921924\n",
      "Compound::DB01752\t-1.554166053261288\n",
      "Compound::DB00775\t-1.5559709250753928\n",
      "Compound::DB01610\t-1.5563473340709395\n",
      "Compound::DB00877\t-1.556804155785931\n",
      "Compound::DB01133\t-1.5600386671287432\n",
      "Compound::DB00586\t-1.560416597768901\n",
      "{'NC(=O)C1=NN(C=N1)[C@@H]1O[C@H](CO)[C@@H](O)[C@H]1O': -0.21416790981372616, 'CN1C=NC(=C1SC1=NC=NC2=C1NC=N2)[N+]([O-])=O': -0.835088998203896, '[H][C@@]12CC[C@](O)(C(=O)CO)[C@@]1(C)CC(=O)[C@@]1([H])[C@@]2([H])CCC2=CC(=O)C=C[C@]12C': -0.8974785851566892, 'CN[C@H]1[C@H](O)[C@@H](O)[C@H](CO)O[C@H]1O[C@H]1[C@H](O[C@H]2[C@H](O)[C@@H](O)[C@H](NC(N)=N)[C@@H](O)[C@@H]2NC(N)=N)O[C@@H](C)[C@]1(O)C=O': -0.9854882290451629, '[H][C@@]12C[C@@H](C)[C@](O)(C(=O)CO)[C@@]1(C)C[C@H](O)[C@@]1(F)[C@@]2([H])CCC2=CC(=O)C=C[C@]12C': -0.9984012514597904, 'C\\\\C(\\\\C=C\\\\C1=C(C)CCCC1(C)C)=C/C=C/C(/C)=C\\\\C(O)=O': -1.0160717658176406, 'CN(CC1=CN=C2N=C(N)N=C(N)C2=N1)C1=CC=C(C=C1)C(=O)N[C@@H](CCC(O)=O)C(O)=O': -1.018946852539912, 'C[C@@H](O)[C@H](NC(=O)[C@@H](C)[C@H](O)[C@@H](C)NC(=O)[C@@H](NC(=O)C1=C(C)C(N)=NC(=N1)[C@H](CC(N)=O)NC[C@H](N)C(N)=O)[C@@H](OC1OC(CO)C(O)C(O)C1OC1OC(CO)C(O)C(OC(N)=O)C1O)C1=CN=CN1)C(=O)NCCC1=NC(=CS1)C1=NC(=CS1)C(=O)NCCC[S+](C)C': -1.0641067344374928, 'COC1=CC2=C(C(OC)=C1OC)C1=CC=C(OC)C(=O)C=C1C(CC2)NC(C)=O': -1.0806760468321792, '[H][C@@]12C[C@H]3OC(CCC)O[C@@]3(C(=O)CO)[C@@]1(C)C[C@H](O)[C@@]1([H])[C@@]2([H])CCC2=CC(=O)C=C[C@]12C': -1.0845477037354971, '[H][C@]12SC(C)(C)[C@@H](N1C(=O)[C@H]2NC(=O)[C@H](N)C1=CC=CC=C1)C(O)=O': -1.0853976195309496, 'NC1=NC2=C(N=CN2COC(CO)CO)C(=O)N1': -1.096669807865025, '[H][C@@]12CC[C@](O)(C(=O)CO)[C@@]1(C)C[C@H](O)[C@@]1([H])[C@@]2([H])CCC2=CC(=O)C=C[C@]12C': -1.1004784467889137, '[H][C@]12C[C@@H](O[C@@H]3O[C@H](C)[C@@H](O)[C@H](N)[C@@H]3O)\\\\C=C\\\\C=C\\\\C=C\\\\C=C\\\\C=C\\\\C=C\\\\C=C\\\\[C@H](C)[C@@H](O)[C@@H](C)[C@H](C)OC(=O)C[C@H](O)C[C@H](O)CC[C@@H](O)[C@H](O)C[C@H](O)C[C@](O)(C[C@H](O)[C@H]1C(O)=O)O2': -1.1011557352112846, 'COC1=C(C\\\\C=C(/C)CCC(=O)OCCN2CCOCC2)C(O)=C2C(=O)OCC2=C1C': -1.1256872785724772, '[H][C@@]12CC[C@H](O)[C@@]1(C)CC[C@@]1([H])[C@@]2([H])CCC2=CC(=O)CC[C@]12C': -1.1428297627951873, '[H][C@@]12CC[C@](O)(C(=O)CO)[C@@]1(C)C[C@H](O)[C@@]1([H])[C@@]2([H])C[C@H](C)C2=CC(=O)C=C[C@]12C': -1.1618414920458742, 'C[C@H](CNC(=O)CC[C@]1(C)[C@@H](CC(N)=O)[C@H]2N=C1\\\\C(C)=C1/N=C(/C=C3\\\\N=C(\\\\C(\\\\C)=C4\\\\[C@@H](CCC(N)=O)[C@](C)(CC(N)=O)[C@@]2(C)N4[Co+]C#N)[C@@](C)(CC(N)=O)[C@@H]3CCC(N)=O)C(C)(C)[C@@H]1CCC(N)=O)OP([O-])(=O)O[C@@H]1[C@@H](CO)O[C@@H]([C@@H]1O)N1C=NC2=C1C=C(C)C(C)=C2': -1.186812089630245, 'CC[C@@H]1NC(=O)[C@H]([C@H](O)[C@H](C)C\\\\C=C\\\\C)N(C)C(=O)[C@H](C(C)C)N(C)C(=O)[C@H](CC(C)C)N(C)C(=O)[C@H](CC(C)C)N(C)C(=O)[C@@H](C)NC(=O)[C@H](C)NC(=O)[C@H](CC(C)C)N(C)C(=O)[C@@H](NC(=O)[C@H](CC(C)C)N(C)C(=O)CN(C)C1=O)C(C)C': -1.1906721734060766, 'COC1=C(C\\\\C=C(/C)CCC(O)=O)C(O)=C2C(=O)OCC2=C1C': -1.2051163728597931, '[H][C@@]12CC[C@](O)(C(=O)CO)[C@@]1(C)C[C@H](O)[C@@]1([H])[C@@]2([H])CCC2=CC(=O)CC[C@]12C': -1.2147067702585472, 'NC1=NC(=O)N(C=C1)[C@@H]1O[C@H](CO)[C@@H](O)C1(F)F': -1.2320411184654292, 'NC1=NC(=O)C2=NC(CNC3=CC=C(C=C3)C(=O)N[C@@H](CCC(O)=O)C(O)=O)=CN=C2N1': -1.2346547610031624, 'CC(C)C(=O)NC1=CC(=C(C=C1)[N+]([O-])=O)C(F)(F)F': -1.2525165420743032, 'CCCCC(C)(O)C\\\\C=C\\\\[C@H]1[C@H](O)CC(=O)[C@@H]1CCCCCCC(=O)OC': -1.273049804221849, 'CCCCC[C@H](O)\\\\C=C\\\\[C@H]1[C@H](O)CC(=O)[C@@H]1CCCCCCC(O)=O': -1.282553108383881, '[H][C@]12SCC(COC(N)=O)=C(N1C(=O)[C@]2(NC(=O)CC1=CC=CS1)OC)C(O)=O': -1.2960491821701947, 'NC1=C2N=CN([C@@H]3O[C@@H]4COP(O)(=O)O[C@H]4[C@H]3O)C2=NC=N1': -1.3034365693235936, 'OC(CN1C=NC=N1)(CN1C=NC=N1)C1=C(F)C=C(F)C=C1': -1.3053347908631219, 'OC(=O)C1=CN(C2CC2)C2=CC(N3CCNCC3)=C(F)C=C2C1=O': -1.3131842480345761, 'CC(C)CC(NC(=O)CNC(=O)C(CC1=CC=C(O)C=C1)NC(=O)C(CO)NC(=O)C(CC1=CNC2=CC=CC=C12)NC(=O)C(CC1=CN=CN1)NC(=O)C1CCC(=O)N1)C(=O)NC(CCCN=C(N)N)C(=O)N1CCCC1C(=O)NCC(N)=O': -1.3131849724524163, 'NC1=NC2=C(N=CN2[C@@H]2C[C@H](CO)C=C2)C(NC2CC2)=N1': -1.3267210243450949, 'OC[C@H]1O[C@H](C[C@@H]1O)N1C=NC2=C1N=CNC[C@H]2O': -1.327208597535659, 'COC1=CC2=C(C=C1)N(C(=O)C1=CC=C(Cl)C=C1)C(C)=C2CC(O)=O': -1.3286101366722414, 'NC1=NC=NC2=C1N=CN2[C@@H]1O[C@H](COP(O)(=O)OP(O)(=O)OP(O)(O)=O)[C@@H](O)[C@H]1O': -1.3300388333484237, '[H][C@]12SCC(CSC3=NC(=O)C(=O)NN3C)=C(N1C(=O)[C@H]2NC(=O)C(=N/OC)\\\\C1=CSC(N)=N1)C(O)=O': -1.3330763387427926, '[H][C@]12C[C@@]3([H])[C@]([H])(N(C)C)C(O)=C(C(O)=N)C(=O)[C@@]3(O)C(O)=C1C(=O)C1=C(O)C=CC(Cl)=C1[C@@]2(C)O': -1.3382980545585774, '[H][C@@]12CC[C@H](O)[C@@]1(C)CC[C@]1([H])C3=C(CC[C@@]21[H])C=C(O)C=C3': -1.3385635394536701, 'C([C@@H]1[C@H]([C@@H]([C@H](C(O1)O)O)O)O)O': -1.3396947864276556, '[H][C@]1(OC(=C[C@H](N=C(N)N)[C@H]1NC(C)=O)C(O)=O)[C@H](O)[C@H](O)CO': -1.3425899675699393, 'II': -1.3575103285433907, '[H][C@]12SCC(COC(N)=O)=C(N1C(=O)[C@H]2NC(=O)C(=N/OC)\\\\C1=CC=CO1)C(O)=O': -1.3584489170967262, 'CCCCCOC(=O)NC1=NC(=O)N(C=C1F)[C@@H]1O[C@H](C)[C@@H](O)[C@H]1O': -1.3815497097244465, 'CC1COC2=C3N1C=C(C(O)=O)C(=O)C3=CC(F)=C2N1CCN(C)CC1': -1.383814895285892, 'OC1=CC=C2C[C@H]3N(CC=C)CC[C@@]45[C@@H](OC1=C24)C(=O)CC[C@@]35O': -1.3862138755161943, '[Na+].CCCCCCCCCCCCOS([O-])(=O)=O': -1.3863468100431258, 'C\\\\C(\\\\C=C\\\\C1=C(C)CCCC1(C)C)=C/C=C/C(/C)=C/C(O)=O': -1.388179715227816, 'CCOC(=O)C1=C[C@@H](OC(CC)CC)[C@H](NC(C)=O)[C@@H](N)C1': -1.3885041864319752, 'NC1=CC=CC2=C1CN(C1CCC(=O)NC1=O)C2=O': -1.3935296332816212, 'CN1C=NC2=C1C(=O)N(CCCCC(C)=O)C(=O)N2C': -1.3996553200254676, 'FC(F)OC1=C(OCC2CC2)C=C(C=C1)C(=O)NC1=C(Cl)C=NC=C1Cl': -1.39997308758269, '[H][C@@]12C[C@@]3([H])C(=C(O)[C@]1(O)C(=O)C(C(N)=O)=C(O)[C@H]2N(C)C)C(=O)C1=C(O)C=CC=C1[C@@]3(C)O': -1.4046530516227214, 'CCCCC[C@H](O)\\\\C=C\\\\[C@H]1[C@H](O)CC(=O)[C@@H]1C\\\\C=C/CCCC(O)=O': -1.4116044532496004, 'ClCCNP1(=O)OCCCN1CCCl': -1.414889692373129, 'CC(C)OC(=O)C(C)(C)OC1=CC=C(C=C1)C(=O)C1=CC=C(Cl)C=C1': -1.4176593073615606, 'CN[C@H](CC(C)C)C(=O)N[C@@H]1[C@H](O)C2=CC=C(OC3=C(O[C@@H]4O[C@H](CO)[C@@H](O)[C@H](O)[C@H]4O[C@H]4C[C@](C)(N)[C@H](O)[C@H](C)O4)C4=CC(=C3)[C@@H](NC(=O)[C@H](CC(N)=O)NC1=O)C(=O)N[C@@H]1C3=CC(=C(O)C=C3)C3=C(O)C=C(O)C=C3[C@H](NC(=O)[C@@H](NC1=O)[C@H](O)C1=CC(Cl)=C(O4)C=C1)C(O)=O)C(Cl)=C2': -1.4207411155466882, 'CCN(CC)CCNC(=O)C1=CC(Cl)=C(N)C=C1OC': -1.4211871567192718, 'CC(C)C(NC(=O)[C@H](CC(O)=O)NC(=O)[C@H](CCCCN)NC(=O)[C@@H](N)CCCN=C(N)N)C(=O)N[C@@H](CC1=CC=C(O)C=C1)C(O)=O': -1.4257907429899233, 'NC(=N)C1=CC=C(OCCCCCOC2=CC=C(C=C2)C(N)=N)C=C1': -1.4274103621468428, 'CCCC1=C2N(CC)C(=CC(=O)C2=CC2=C1OC(=CC2=O)C(O)=O)C(O)=O': -1.432749841023438, 'NC(=O)C1=CC=C[N+](=C1)[C@@H]1O[C@H](COP([O-])(=O)OP(O)(=O)OC[C@H]2O[C@H]([C@H](OP(O)(O)=O)[C@@H]2O)N2C=NC3=C2N=CN=C3N)[C@@H](O)[C@H]1O': -1.4379275377674008, '[H][C@@]12C[C@@]3([H])[C@]4([H])C[C@H](F)C5=CC(=O)C=C[C@]5(C)[C@@]4(F)[C@@H](O)C[C@]3(C)[C@@]1(OC(C)(C)O2)C(=O)CO': -1.4404353404787682, '[H][C@]12SCC(CSC3=NN=C(C)S3)=C(N1C(=O)[C@H]2NC(=O)CN1C=NN=N1)C(O)=O': -1.4408747162188575, 'NC1=C2N=CN([C@@H]3O[C@H](COP(O)(O)=O)[C@@H](O)[C@H]3O)C2=NC=N1': -1.4446901086635378, 'OC1=CC=C2C(OC3=CC(O)=CC=C3C22OC(=O)C3=C2C=CC=C3)=C1': -1.446075369489549, 'NC1=NC(=O)N(C[C@@H](CO)OCP(O)(O)=O)C=C1': -1.4505727809351612, '[H][C@@]1(CC[C@@]2([H])[C@]3([H])CCC4=CC(=O)CC[C@]4(C)[C@@]3([H])[C@@H](O)C[C@]12C=O)C(=O)CO': -1.4531157913183321, 'ClC1=CC=C(NC(=N)NC(=N)NCCCCCCNC(=N)NC(=N)NC2=CC=C(Cl)C=C2)C=C1': -1.4564689949685037, 'CC(=O)N[C@H]1[C@H](O)O[C@H](CO)[C@@H](O)C1O[C@@H]1O[C@@H]([C@@H](O[C@@H]2O[C@H](CO)[C@@H](O)C(O[C@@H]3O[C@@H]([C@@H](O)[C@H](O)[C@H]3O)C(O)=O)[C@H]2NC(C)=O)[C@H](O)[C@H]1O)C(O)=O': -1.4633685122788707, 'CC(=O)CC(C1=CC=CC=C1)C1=C(O)C2=C(OC1=O)C=CC=C2': -1.4691758081743882, '[O-][N+](=O)C1=CC2=C(NC(=O)CN=C2C2=CC=CC=C2Cl)C=C1': -1.470010057395924, 'OC[C@@H](NC(=O)C(Cl)Cl)[C@H](O)C1=CC=C(C=C1)[N+]([O-])=O': -1.4720208154365633, 'COC(=O)C1=C(C)NC(C)=C(C1C1=CC=CC=C1[N+]([O-])=O)C(=O)OC': -1.472985357590512, 'C[C@H]1[C@H](NC(=O)C(=N/OC(C)(C)C(=O)O)\\\\C2=CSC([NH3+])=N2)C(=O)N1S([O-])(=O)=O': -1.4770018987049767, 'CC[C@@]1(O)C(=O)OCC2=C1C=C1N(CC3=CC4=C(C=CC(O)=C4CN(C)C)N=C13)C2=O': -1.48506984527755, '[H][C@@]12C[C@@H](O)[C@](O)(C(=O)CO)[C@@]1(C)C[C@H](O)[C@@]1(F)[C@@]2([H])CCC2=CC(=O)C=C[C@]12C': -1.4973492929978023, '[H][C@@]12CC[C@H](C(C)=O)[C@@]1(C)CC[C@@]1([H])[C@@]2([H])CCC2=CC(=O)CC[C@]12C': -1.4976938323751243, 'NC1=NC(F)=NC2=C1N=CN2[C@@H]1O[C@H](CO)[C@@H](O)[C@@H]1O': -1.4987040573340908, 'NC1=C2N=CN([C@@H]3O[C@H](CO)[C@@H](O)[C@H]3O)C2=NC=N1': -1.5026202277615452, 'NS(=O)(=O)C1=C(Cl)C=C2NCNS(=O)(=O)C2=C1': -1.5034271704975255, '[H][C@]12SC(C)(C)[C@@H](N1C(=O)[C@H]2NC(=O)[C@H](N)C1=CC=C(O)C=C1)C(O)=O': -1.5043616358922698, '[H][C@]12SCC(COC(C)=O)=C(N1C(=O)[C@H]2NC(=O)C(=N/OC)\\\\C1=CSC(N)=N1)C(O)=O': -1.5072380620490424, '[H][C@]12C[C@@H](O)[C@H](\\\\C=C\\\\[C@@H](O)CCCCC)[C@@]1([H])C\\\\C(O2)=C\\\\CCCC(O)=O': -1.5090977242981896, 'O.O[Al](O)O.O[Al](O)OS(=O)(=O)OC[C@H]1O[C@@](COS(=O)(=O)O[Al](O)O)(O[C@H]2O[C@H](COS(=O)(=O)O[Al](O)O)[C@@H](OS(=O)(=O)O[Al](O)O)[C@H](OS(=O)(=O)O[Al](O)O)[C@H]2OS(=O)(=O)O[Al](O)O)[C@@H](OS(=O)(=O)O[Al](O)O)[C@@H]1OS(=O)(=O)O[Al](O)O': -1.509947108499631, '[H][C@@](C)(O)[C@]([H])(CC)N1N=CN(C1=O)C1=CC=C(C=C1)N1CCN(CC1)C1=CC=C(OC[C@]2([H])CO[C@](CN3C=NC=N3)(C2)C2=C(F)C=C(F)C=C2)C=C1': -1.5119920438731982, 'CC(=O)N(O)CCCCCNC(=O)CCC(=O)N(O)CCCCCNC(=O)CCC(=O)N(O)CCCCCN': -1.5130662046000374, 'CC(C)(C)C(=O)OCOP(=O)(COCCN1C=NC2=C(N)N=CN=C12)OCOC(=O)C(C)(C)C': -1.518311878451104, 'COC1=CC2=C(NC=C2CCNC(C)=O)C=C1': -1.520716184602828, 'CCOC(=O)C1=C2CN(C)C(=O)C3=C(C=CC(F)=C3)N2C=N1': -1.5212777494673018, 'C[C@H]1COC2=C3N1C=C(C(O)=O)C(=O)C3=CC(F)=C2N1CCN(C)CC1': -1.5229606219947367, 'CCC(=O)N(C1CCN(CCC2=CC=CC=C2)CC1)C1=CC=CC=C1': -1.530871028007928, 'COC1=CC(NCC2=C(C)C3=C(C=C2)N=C(N)N=C3N)=CC(OC)=C1OC': -1.5316545829855357, '[H][C@]12OCC(CSC3=NN=NN3C)=C(N1C(=O)[C@]2(NC(=O)C(C(O)=O)C1=CC=C(O)C=C1)OC)C(O)=O': -1.5430860255268986, 'COC1=C(C)C(C)=C(\\\\C=C\\\\C(\\\\C)=C\\\\C=C\\\\C(\\\\C)=C\\\\C(O)=O)C(C)=C1': -1.5503196486921924, 'N[C@@H](CCSC[C@H]1O[C@H]([C@H](O)[C@@H]1O)N1C=NC2=C(N)N=CN=C12)C(O)=O': -1.554166053261288, 'CCCCS(=O)(=O)N[C@@H](CC1=CC=C(OCCCCC2CCNCC2)C=C1)C(O)=O': -1.5559709250753928, 'CC(C)[C@H](N)C(=O)OCC(CO)OCN1C=NC2=C1NC(N)=NC2=O': -1.5563473340709395, '[H][C@@]1(C[C@@H](C)[C@]2([H])CC(=O)[C@H](C)\\\\C=C(C)\\\\[C@@H](O)[C@@H](OC)C(=O)[C@H](C)C[C@H](C)\\\\C=C\\\\C=C\\\\C=C(C)\\\\[C@H](C[C@]3([H])CC[C@@H](C)[C@@](O)(O3)C(=O)C(=O)N3CCCC[C@@]3([H])C(=O)O2)OC)CC[C@@H](O)[C@@H](C1)OC': -1.556804155785931, 'OP(O)(=O)C(SC1=CC=C(Cl)C=C1)P(O)(O)=O': -1.5600386671287432, 'OC(=O)CC1=CC=CC=C1NC1=C(Cl)C=CC=C1Cl': -1.560416597768901}\n"
     ]
    }
   ],
   "source": [
    "# Check edge score\n",
    "print(len(original_embeddings))\n",
    "original_score = edge_score(original_embeddings)\n",
    "print(original_score)"
   ]
  },
  {
   "cell_type": "markdown",
   "metadata": {},
   "source": [
    "The output for the first drug and some other drugs point matches those in the original code.\n",
    "\n",
    "Note: not all the drugs in this list are in the drug list the original authors used in the `infer_drug.tsv` file. \n",
    "Remember that the SMILES of some drugs were missing. The input file here is filtered to only consider the drug from the `infer_drug.tsv` file that have an associated SMILES data."
   ]
  },
  {
   "cell_type": "code",
   "execution_count": 11,
   "metadata": {},
   "outputs": [],
   "source": [
    "# print(len(scores))"
   ]
  },
  {
   "cell_type": "markdown",
   "metadata": {},
   "source": [
    "## Using Morgan Fingerprint model predicted embeddings"
   ]
  },
  {
   "cell_type": "code",
   "execution_count": 12,
   "metadata": {},
   "outputs": [
    {
     "name": "stderr",
     "output_type": "stream",
     "text": [
      "[09:38:01] Unusual charge on atom 0 number of radical electrons set to zero\n"
     ]
    },
    {
     "name": "stdout",
     "output_type": "stream",
     "text": [
      "The length of drug smiles is: 6521\n",
      "The length of morgan_fingerprints is: 6521\n",
      "[[0. 0. 0. ... 0. 0. 0.]\n",
      " [0. 1. 0. ... 0. 0. 0.]\n",
      " [0. 1. 0. ... 0. 0. 0.]\n",
      " ...\n",
      " [0. 0. 0. ... 0. 1. 0.]\n",
      " [0. 1. 0. ... 0. 0. 0.]\n",
      " [0. 0. 0. ... 0. 0. 0.]]\n"
     ]
    }
   ],
   "source": [
    "def calculate_morgan_fingerprint(smiles_series, radius=2, n_bits=2048):\n",
    "    '''Function to convert SMILES to fingerprint using the Morgan Fingerprint for a Pandas Series.\n",
    "\n",
    "    Parameters\n",
    "    -----------\n",
    "    smiles_series (Pandas Series): Series containing SMILES of the compounds.\n",
    "    radius (int): controls the radius of the fingerprint.\n",
    "    n_bits (int): controls the length of the fingerprint bit vector.\n",
    "\n",
    "    Returns\n",
    "    -------\n",
    "    fingerprints (NumPy Array): fingerprints of SMILES in the input series\n",
    "    '''\n",
    "    fingerprints = []\n",
    "\n",
    "    for smiles in smiles_series:\n",
    "        # Convert the input SMILES string into an RDKit molecule object.\n",
    "        mol = Chem.MolFromSmiles(smiles)\n",
    "        # If the molecule conversion is successful, then generate the fingerprint\n",
    "        if mol is not None:\n",
    "            fingerprint = AllChem.GetMorganFingerprintAsBitVect(mol, radius, nBits=n_bits)\n",
    "            arr = np.zeros((1,))\n",
    "            AllChem.DataStructs.ConvertToNumpyArray(fingerprint, arr)\n",
    "            fingerprints.append(arr)\n",
    "\n",
    "    return np.array(fingerprints)\n",
    "\n",
    "\n",
    "morgan_fingerprints = calculate_morgan_fingerprint(drug_smiles)\n",
    "print(\"The length of drug smiles is:\", len(drug_smiles))\n",
    "print(\"The length of morgan_fingerprints is:\", len(morgan_fingerprints))\n",
    "print(morgan_fingerprints)"
   ]
  },
  {
   "cell_type": "code",
   "execution_count": 13,
   "metadata": {},
   "outputs": [
    {
     "name": "stdout",
     "output_type": "stream",
     "text": [
      "204/204 [==============================] - 2s 6ms/step\n",
      "[[-0.14539145 -0.07305996 -0.28591534 ... -0.17516898  0.1930192\n",
      "  -0.24724808]\n",
      " [-0.19003028 -0.01532836 -0.34017324 ... -0.03350564  0.27475265\n",
      "  -0.4107109 ]\n",
      " [-0.18157184 -0.18642853 -0.53062004 ... -0.19943923  0.17700678\n",
      "  -0.42576954]\n",
      " ...\n",
      " [ 0.15702343  0.5273648  -0.18834566 ...  0.09023038 -0.00148031\n",
      "  -0.07461459]\n",
      " [ 0.26712334  0.35497493 -0.05726355 ...  0.06099455  0.00921259\n",
      "   0.13521963]\n",
      " [-0.14691627  0.14291099 -0.08404915 ... -0.0940645   0.15892325\n",
      "  -0.3037098 ]]\n"
     ]
    }
   ],
   "source": [
    "# load the saved model\n",
    "model = keras.models.load_model(\"mf_model\")\n",
    "\n",
    "# predict the embeddings of the drug Morgan fingerprints\n",
    "mf_embeddings = model.predict(morgan_fingerprints)\n",
    "print(mf_embeddings)"
   ]
  },
  {
   "cell_type": "code",
   "execution_count": 14,
   "metadata": {},
   "outputs": [
    {
     "name": "stdout",
     "output_type": "stream",
     "text": [
      "Compound::DB00140\t-0.4077950716018677\n",
      "Compound::DB00348\t-0.41536837816238403\n",
      "Compound::DB00495\t-0.41737428307533264\n",
      "Compound::DB12028\t-0.42042261362075806\n",
      "Compound::DB00432\t-0.42594149708747864\n",
      "Compound::DB11797\t-0.4264325499534607\n",
      "Compound::DB00249\t-0.4421328902244568\n",
      "Compound::DB00507\t-0.4443260729312897\n",
      "Compound::DB04335\t-0.4454585909843445\n",
      "Compound::DB00200\t-0.45016348361968994\n",
      "Compound::DB13421\t-0.4518240988254547\n",
      "Compound::DB00446\t-0.4569593667984009\n",
      "Compound::DB01002\t-0.45817339420318604\n",
      "Compound::DB00297\t-0.45817339420318604\n",
      "Compound::DB00198\t-0.46341702342033386\n",
      "Compound::DB01048\t-0.4650264084339142\n",
      "Compound::DB03247\t-0.4653477966785431\n",
      "Compound::DB13795\t-0.4672207832336426\n",
      "Compound::DB00707\t-0.46888118982315063\n",
      "Compound::DB00811\t-0.4717784821987152\n",
      "Compound::DB00781\t-0.47182223200798035\n",
      "Compound::DB01280\t-0.4769327640533447\n",
      "Compound::DB00442\t-0.478443443775177\n",
      "Compound::DB11869\t-0.4797147214412689\n",
      "Compound::DB00770\t-0.481482595205307\n",
      "Compound::DB00460\t-0.4841911494731903\n",
      "Compound::DB13813\t-0.4849822521209717\n",
      "Compound::DB14763\t-0.48566868901252747\n",
      "Compound::DB09134\t-0.48883968591690063\n",
      "Compound::DB00441\t-0.48993805050849915\n",
      "Compound::DB00305\t-0.49015194177627563\n",
      "Compound::DB00428\t-0.49069538712501526\n",
      "Compound::DB11632\t-0.4907597005367279\n",
      "Compound::DB04262\t-0.4920063018798828\n",
      "Compound::DB00362\t-0.4940207302570343\n",
      "Compound::DB03151\t-0.49766626954078674\n",
      "Compound::DB02222\t-0.49790072441101074\n",
      "Compound::DB01024\t-0.49809563159942627\n",
      "Compound::DB05016\t-0.4981008768081665\n",
      "Compound::DB12989\t-0.49882563948631287\n",
      "Compound::DB07492\t-0.4994042217731476\n",
      "Compound::DB03614\t-0.499530553817749\n",
      "Compound::DB12617\t-0.5001874566078186\n",
      "Compound::DB01249\t-0.5005749464035034\n",
      "Compound::DB07565\t-0.5020650625228882\n",
      "Compound::DB02017\t-0.5022589564323425\n",
      "Compound::DB00993\t-0.5026193857192993\n",
      "Compound::DB13089\t-0.5032914876937866\n",
      "Compound::DB06812\t-0.5039336681365967\n",
      "Compound::DB13861\t-0.5058769583702087\n",
      "Compound::DB03961\t-0.5082792043685913\n",
      "Compound::DB01362\t-0.509861946105957\n",
      "Compound::DB00299\t-0.5098935961723328\n",
      "Compound::DB00718\t-0.5100021362304688\n",
      "Compound::DB01578\t-0.5117734670639038\n",
      "Compound::DB00990\t-0.5120337009429932\n",
      "Compound::DB08947\t-0.5136107802391052\n",
      "Compound::DB04546\t-0.5149539709091187\n",
      "Compound::DB00091\t-0.5162221789360046\n",
      "Compound::DB13752\t-0.5173156261444092\n",
      "Compound::DB13640\t-0.5174770355224609\n",
      "Compound::DB03938\t-0.5184693932533264\n",
      "Compound::DB06433\t-0.518793523311615\n",
      "Compound::DB14492\t-0.5188367962837219\n",
      "Compound::DB04944\t-0.5188788771629333\n",
      "Compound::DB08946\t-0.5190132260322571\n",
      "Compound::DB02115\t-0.519355058670044\n",
      "Compound::DB02225\t-0.5197020769119263\n",
      "Compound::DB13441\t-0.520628809928894\n",
      "Compound::DB11446\t-0.5211933851242065\n",
      "Compound::DB12151\t-0.5213626623153687\n",
      "Compound::DB02253\t-0.5224608778953552\n",
      "Compound::DB04652\t-0.5235378742218018\n",
      "Compound::DB00643\t-0.5243830680847168\n",
      "Compound::DB14126\t-0.5244943499565125\n",
      "Compound::DB12126\t-0.527275562286377\n",
      "Compound::DB00375\t-0.527955949306488\n",
      "Compound::DB03475\t-0.530987560749054\n",
      "Compound::DB13068\t-0.5319523811340332\n",
      "Compound::DB00158\t-0.5330324172973633\n",
      "Compound::DB01613\t-0.5344516038894653\n",
      "Compound::DB00431\t-0.5344914793968201\n",
      "Compound::DB01141\t-0.5354247093200684\n",
      "Compound::DB13028\t-0.5383442044258118\n",
      "Compound::DB00276\t-0.5396018624305725\n",
      "Compound::DB13719\t-0.5398436784744263\n",
      "Compound::DB02329\t-0.5400410294532776\n",
      "Compound::DB05309\t-0.5404187440872192\n",
      "Compound::DB13637\t-0.5415947437286377\n",
      "Compound::DB02620\t-0.5421341061592102\n",
      "Compound::DB13389\t-0.5423883199691772\n",
      "Compound::DB00137\t-0.542595624923706\n",
      "Compound::DB00499\t-0.5427078604698181\n",
      "Compound::DB00884\t-0.5435399413108826\n",
      "Compound::DB04253\t-0.5442296266555786\n",
      "Compound::DB00700\t-0.5442800521850586\n",
      "Compound::DB11059\t-0.5457550883293152\n",
      "Compound::DB13751\t-0.545834481716156\n",
      "Compound::DB00552\t-0.5462241172790527\n",
      "Compound::DB06263\t-0.5480546355247498\n"
     ]
    }
   ],
   "source": [
    "# Check edge score\n",
    "mf_score = edge_score(mf_embeddings)\n",
    "# print(mf_score)"
   ]
  },
  {
   "cell_type": "markdown",
   "metadata": {},
   "source": [
    "## Using Morgan Fingerprint Count Embeddings"
   ]
  },
  {
   "cell_type": "code",
   "execution_count": 15,
   "metadata": {},
   "outputs": [
    {
     "name": "stderr",
     "output_type": "stream",
     "text": [
      "[09:38:32] Unusual charge on atom 0 number of radical electrons set to zero\n"
     ]
    },
    {
     "name": "stdout",
     "output_type": "stream",
     "text": [
      "The length of drug smiles is: 6521\n",
      "The length of morgan_fingerprint_counts is: 6521\n",
      "[[0 0 0 ... 0 0 0]\n",
      " [0 2 0 ... 0 0 0]\n",
      " [0 1 0 ... 0 0 0]\n",
      " ...\n",
      " [0 0 0 ... 0 1 0]\n",
      " [0 1 0 ... 0 0 0]\n",
      " [0 0 0 ... 0 0 0]]\n"
     ]
    }
   ],
   "source": [
    "def calculate_morgan_fingerprint_count(smiles_series, radius=2, n_bits=2048):\n",
    "    '''Function to convert SMILES to fingerprint using the Morgan Fingerprint Count for a Pandas Series.\n",
    "\n",
    "    Parameters\n",
    "    -----------\n",
    "    smiles_series (Pandas Series): Series containing SMILES of the compounds.\n",
    "    radius (int): controls the radius of the fingerprint.\n",
    "    n_bits (int): controls the length of the fingerprint bit vector.\n",
    "\n",
    "    Returns\n",
    "    -------\n",
    "    fingerprints (NumPy Array): fingerprints of SMILES in the input series\n",
    "    '''\n",
    "    fingerprints = []\n",
    "\n",
    "    for smiles in smiles_series:\n",
    "        # Convert the input SMILES string into an RDKit molecule object.\n",
    "        mol = Chem.MolFromSmiles(smiles)\n",
    "        # If the molecule conversion is successful, then generate the fingerprint\n",
    "        if mol is not None:\n",
    "            fingerprint = rd.GetHashedMorganFingerprint(mol, radius=radius, nBits=n_bits)\n",
    "            arr = np.zeros((n_bits,), dtype=np.uint8)\n",
    "            for idx, count in fingerprint.GetNonzeroElements().items():\n",
    "                arr[idx] = count if count < 255 else 255\n",
    "            fingerprints.append(arr)\n",
    "\n",
    "    return np.array(fingerprints)\n",
    "\n",
    "\n",
    "morgan_fingerprint_counts = calculate_morgan_fingerprint_count(drug_smiles)\n",
    "print(\"The length of drug smiles is:\", len(drug_smiles))\n",
    "print(\"The length of morgan_fingerprint_counts is:\", len(morgan_fingerprint_counts))\n",
    "print(morgan_fingerprint_counts)"
   ]
  },
  {
   "cell_type": "code",
   "execution_count": 16,
   "metadata": {},
   "outputs": [
    {
     "name": "stdout",
     "output_type": "stream",
     "text": [
      "204/204 [==============================] - 1s 6ms/step\n",
      "[[-0.06825772  0.30465627 -0.12158845 ... -0.12277345  0.2011324\n",
      "  -0.23716313]\n",
      " [-0.20824523 -0.01959234 -0.48053306 ...  0.12968855  0.3793604\n",
      "  -0.48335794]\n",
      " [-0.08968617  0.09335519 -0.5797926  ... -0.05975341  0.31130734\n",
      "  -0.5547119 ]\n",
      " ...\n",
      " [ 0.20823444  0.6298635  -0.24004918 ...  0.13009495  0.05724981\n",
      "   0.09389218]\n",
      " [ 0.15205142  0.5382722  -0.35446736 ...  0.25447556 -0.01474598\n",
      "   0.1489524 ]\n",
      " [ 0.04268427  0.48600382 -0.48005092 ...  0.08301169  0.08417349\n",
      "   0.06148876]]\n"
     ]
    }
   ],
   "source": [
    "# load the saved model\n",
    "model = keras.models.load_model(\"mfcount_model\")\n",
    "\n",
    "# predict the embeddings of the drug Morgan fingerprints\n",
    "mfcount_embeddings = model.predict(morgan_fingerprints)\n",
    "print(mfcount_embeddings)"
   ]
  },
  {
   "cell_type": "code",
   "execution_count": 17,
   "metadata": {},
   "outputs": [
    {
     "name": "stdout",
     "output_type": "stream",
     "text": [
      "Compound::DB04815\t-0.3808886408805847\n",
      "Compound::DB04335\t-0.3813525438308716\n",
      "Compound::DB13776\t-0.38916975259780884\n",
      "Compound::DB00432\t-0.39102819561958313\n",
      "Compound::DB00495\t-0.40762394666671753\n",
      "Compound::DB00249\t-0.4102410078048706\n",
      "Compound::DB01280\t-0.4227445721626282\n",
      "Compound::DB00242\t-0.43035271763801575\n",
      "Compound::DB00811\t-0.4365576207637787\n",
      "Compound::DB12028\t-0.4375351071357727\n",
      "Compound::DB00631\t-0.4496358335018158\n",
      "Compound::DB02315\t-0.4517326056957245\n",
      "Compound::DB00445\t-0.45474064350128174\n",
      "Compound::DB00997\t-0.45474064350128174\n",
      "Compound::DB01181\t-0.45863136649131775\n",
      "Compound::DB01629\t-0.46170029044151306\n",
      "Compound::DB09115\t-0.4620950222015381\n",
      "Compound::DB00299\t-0.4674661159515381\n",
      "Compound::DB02103\t-0.4677414298057556\n",
      "Compound::DB00531\t-0.4702516794204712\n",
      "Compound::DB13182\t-0.47361448407173157\n",
      "Compound::DB13069\t-0.4784637689590454\n",
      "Compound::DB00380\t-0.47886425256729126\n",
      "Compound::DB15427\t-0.4801975190639496\n",
      "Compound::DB13389\t-0.4813809394836426\n",
      "Compound::DB12901\t-0.48162218928337097\n",
      "Compound::DB11616\t-0.48404034972190857\n",
      "Compound::DB00428\t-0.48459646105766296\n",
      "Compound::DB06433\t-0.488210529088974\n",
      "Compound::DB04944\t-0.4886711835861206\n",
      "Compound::DB03312\t-0.49231210350990295\n",
      "Compound::DB01004\t-0.49406200647354126\n",
      "Compound::DB00939\t-0.4981573820114136\n",
      "Compound::DB11998\t-0.5005531311035156\n",
      "Compound::DB07619\t-0.5012475848197937\n",
      "Compound::DB02600\t-0.5037166476249695\n",
      "Compound::DB04866\t-0.5048255920410156\n",
      "Compound::DB09299\t-0.5048509240150452\n",
      "Compound::DB00431\t-0.5051424503326416\n",
      "Compound::DB00300\t-0.5060708522796631\n",
      "Compound::DB12617\t-0.5081591606140137\n",
      "Compound::DB03878\t-0.5099937915802002\n",
      "Compound::DB02857\t-0.5135640501976013\n",
      "Compound::DB06683\t-0.5136260986328125\n",
      "Compound::DB07352\t-0.5145649313926697\n",
      "Compound::DB00694\t-0.5154078602790833\n",
      "Compound::DB00541\t-0.5163664221763611\n",
      "Compound::DB13647\t-0.5189476013183594\n",
      "Compound::DB06213\t-0.5189835429191589\n",
      "Compound::DB13046\t-0.5193654894828796\n",
      "Compound::DB05483\t-0.5196807980537415\n",
      "Compound::DB11641\t-0.5210577845573425\n",
      "Compound::DB00080\t-0.5214638113975525\n",
      "Compound::DB04546\t-0.5223677158355713\n",
      "Compound::DB00919\t-0.52278071641922\n",
      "Compound::DB04853\t-0.5229686498641968\n",
      "Compound::DB04218\t-0.5242164731025696\n",
      "Compound::DB00822\t-0.5244815349578857\n",
      "Compound::DB00552\t-0.5253258943557739\n",
      "Compound::DB12753\t-0.5258915424346924\n",
      "Compound::DB00440\t-0.5266642570495605\n",
      "Compound::DB11797\t-0.527407705783844\n",
      "Compound::DB04440\t-0.5274124145507812\n",
      "Compound::DB13421\t-0.5277924537658691\n",
      "Compound::DB13832\t-0.5299789905548096\n",
      "Compound::DB02222\t-0.5307546257972717\n",
      "Compound::DB00198\t-0.5331596732139587\n",
      "Compound::DB00361\t-0.5349432826042175\n",
      "Compound::DB14492\t-0.53514564037323\n",
      "Compound::DB00585\t-0.5358494520187378\n",
      "Compound::DB06812\t-0.5359384417533875\n",
      "Compound::DB05552\t-0.536859393119812\n",
      "Compound::DB00718\t-0.5371490120887756\n",
      "Compound::DB00399\t-0.5377156138420105\n",
      "Compound::DB00570\t-0.5387524962425232\n",
      "Compound::DB13765\t-0.5413331389427185\n",
      "Compound::DB06813\t-0.5430362224578857\n",
      "Compound::DB06185\t-0.5456303358078003\n",
      "Compound::DB01177\t-0.5464316606521606\n",
      "Compound::DB04794\t-0.5469561815261841\n",
      "Compound::DB00613\t-0.5480743646621704\n",
      "Compound::DB00257\t-0.5485360622406006\n",
      "Compound::DB00441\t-0.5486206412315369\n",
      "Compound::DB08437\t-0.5489187240600586\n",
      "Compound::DB11059\t-0.550266683101654\n",
      "Compound::DB01610\t-0.5506703853607178\n",
      "Compound::DB13084\t-0.5506824851036072\n",
      "Compound::DB03321\t-0.5508133769035339\n",
      "Compound::DB08604\t-0.5521089434623718\n",
      "Compound::DB04820\t-0.5522574782371521\n",
      "Compound::DB00995\t-0.5523959398269653\n",
      "Compound::DB11118\t-0.5524400472640991\n",
      "Compound::DB01578\t-0.5532829165458679\n",
      "Compound::DB00749\t-0.5543133616447449\n",
      "Compound::DB00760\t-0.554707944393158\n",
      "Compound::DB09344\t-0.555587112903595\n",
      "Compound::DB08949\t-0.5560490489006042\n",
      "Compound::DB04342\t-0.5571004748344421\n",
      "Compound::DB04570\t-0.5571004748344421\n",
      "Compound::DB00804\t-0.5572707653045654\n"
     ]
    }
   ],
   "source": [
    "# Check edge score\n",
    "mfc_score = edge_score(mfcount_embeddings)\n",
    "# print(mfc_score)"
   ]
  },
  {
   "cell_type": "markdown",
   "metadata": {},
   "source": [
    "## Using Ersilia Embeddings"
   ]
  },
  {
   "cell_type": "code",
   "execution_count": 18,
   "metadata": {},
   "outputs": [
    {
     "name": "stderr",
     "output_type": "stream",
     "text": [
      "[09:42:51] Unusual charge on atom 0 number of radical electrons set to zero\n"
     ]
    },
    {
     "name": "stdout",
     "output_type": "stream",
     "text": [
      "The length of drug smiles is: 6521\n",
      "The length of ersilia descriptor is: 6521\n",
      "[[ 0.0257058  -0.04700303  0.0038386  ... -0.04954001  0.00230189\n",
      "   0.06074152]\n",
      " [-0.01488564  0.00200031  0.0076263  ... -0.02522343  0.00974543\n",
      "  -0.05920968]\n",
      " [ 0.03319988  0.00829009  0.11105975 ... -0.06268101 -0.05922099\n",
      "  -0.13830455]\n",
      " ...\n",
      " [ 0.14135769  0.04299419 -0.05294156 ... -0.11926071 -0.04383421\n",
      "  -0.07094503]\n",
      " [-0.00320739 -0.07315785  0.02023898 ... -0.00566167 -0.04526901\n",
      "   0.02813001]\n",
      " [ 0.05420799  0.01565388 -0.06837106 ... -0.04647554 -0.05509707\n",
      "   0.00550069]]\n"
     ]
    }
   ],
   "source": [
    "def calculate_ersilia_fingerprint(smiles_series):\n",
    "    '''Function to convert SMILES to embedding using the Ersilia Compound Embeddings\n",
    "\n",
    "    Parameters\n",
    "    -----------\n",
    "    smiles_series (Pandas Series): Series containing SMILES of the compounds.\n",
    "    \n",
    "    Returns\n",
    "    -------\n",
    "    embeddings (NumPy Array): embeddings of SMILES in the input series\n",
    "    '''\n",
    "    fingerprints = []\n",
    "\n",
    "    for smiles in smiles_series:\n",
    "        model = ErsiliaCompoundEmbeddings()\n",
    "        embeddings = model.transform([smiles])\n",
    "        fingerprints.append(embeddings[0])\n",
    "        \n",
    "    return np.array(fingerprints)\n",
    "\n",
    "ersilia_descriptor = calculate_ersilia_fingerprint(drug_smiles)\n",
    "print(\"The length of drug smiles is:\", len(drug_smiles))\n",
    "print(\"The length of ersilia descriptor is:\", len(ersilia_descriptor))\n",
    "print(ersilia_descriptor)"
   ]
  },
  {
   "cell_type": "code",
   "execution_count": 19,
   "metadata": {},
   "outputs": [
    {
     "name": "stdout",
     "output_type": "stream",
     "text": [
      "(6521, 1024)\n"
     ]
    }
   ],
   "source": [
    "print(ersilia_descriptor.shape)\n",
    "# ersilia_descriptor = ersilia_descriptor.reshape((6521, 1024))\n",
    "# print(ersilia_descriptor.shape)"
   ]
  },
  {
   "cell_type": "code",
   "execution_count": 20,
   "metadata": {},
   "outputs": [
    {
     "name": "stdout",
     "output_type": "stream",
     "text": [
      "6521\n"
     ]
    }
   ],
   "source": [
    "print(len(ersilia_descriptor))"
   ]
  },
  {
   "cell_type": "code",
   "execution_count": 21,
   "metadata": {},
   "outputs": [
    {
     "name": "stdout",
     "output_type": "stream",
     "text": [
      "204/204 [==============================] - 1s 7ms/step\n",
      "[[ 0.01235009  0.13490671 -0.4879381  ... -0.19719847  0.48371866\n",
      "  -0.45392495]\n",
      " [-0.2091402   0.11309679 -0.3237701  ...  0.02232243  0.21990132\n",
      "  -0.2811888 ]\n",
      " [ 0.04469691  0.18003142 -0.41040844 ... -0.10965852  0.16823182\n",
      "  -0.30109778]\n",
      " ...\n",
      " [-0.02620227  0.41637787 -0.0159163  ...  0.04635789  0.10165697\n",
      "   0.00709242]\n",
      " [ 0.13899654  0.37279862 -0.20471048 ...  0.09301486  0.00790367\n",
      "   0.1540771 ]\n",
      " [-0.10602047  0.17622861 -0.24496007 ... -0.10999662  0.29111537\n",
      "  -0.1998289 ]]\n"
     ]
    }
   ],
   "source": [
    "# load the saved model\n",
    "model = keras.models.load_model(\"ersilia_model\")\n",
    "\n",
    "# predict the embeddings of the Ersilia descriptor\n",
    "ersilia_embeddings = model.predict(ersilia_descriptor)\n",
    "print(ersilia_embeddings)"
   ]
  },
  {
   "cell_type": "code",
   "execution_count": 22,
   "metadata": {},
   "outputs": [
    {
     "name": "stdout",
     "output_type": "stream",
     "text": [
      "6521\n",
      "Compound::DB03609\t-0.4530784487724304\n",
      "Compound::DB12531\t-0.4638391435146332\n",
      "Compound::DB12028\t-0.4656132757663727\n",
      "Compound::DB00718\t-0.470846951007843\n",
      "Compound::DB06683\t-0.47480902075767517\n",
      "Compound::DB01629\t-0.4816054105758667\n",
      "Compound::DB01610\t-0.4853154718875885\n",
      "Compound::DB05020\t-0.4909569025039673\n",
      "Compound::DB06575\t-0.4927115738391876\n",
      "Compound::DB00406\t-0.5021226406097412\n",
      "Compound::DB15427\t-0.5057070255279541\n",
      "Compound::DB00249\t-0.509706974029541\n",
      "Compound::DB00495\t-0.5119695067405701\n",
      "Compound::DB12901\t-0.516657292842865\n",
      "Compound::DB00460\t-0.5180578231811523\n",
      "Compound::DB13421\t-0.5205394625663757\n",
      "Compound::DB02857\t-0.5230657458305359\n",
      "Compound::DB00442\t-0.5237544178962708\n",
      "Compound::DB00631\t-0.5266939401626587\n",
      "Compound::DB08596\t-0.5288973450660706\n",
      "Compound::DB04198\t-0.5298973917961121\n",
      "Compound::DB01157\t-0.5334029197692871\n",
      "Compound::DB00432\t-0.5351057052612305\n",
      "Compound::DB12753\t-0.5413323044776917\n",
      "Compound::DB02285\t-0.541774570941925\n",
      "Compound::DB03986\t-0.5490472316741943\n",
      "Compound::DB01004\t-0.5540001392364502\n",
      "Compound::DB00558\t-0.5541636347770691\n",
      "Compound::DB05232\t-0.5550633072853088\n",
      "Compound::DB09144\t-0.556490957736969\n",
      "Compound::DB08661\t-0.5565556883811951\n",
      "Compound::DB03895\t-0.5568239688873291\n",
      "Compound::DB00919\t-0.5591575503349304\n",
      "Compound::DB00707\t-0.5630870461463928\n",
      "Compound::DB04944\t-0.5646477341651917\n",
      "Compound::DB01101\t-0.5654970407485962\n",
      "Compound::DB04649\t-0.5694206953048706\n",
      "Compound::DB03312\t-0.5716859102249146\n",
      "Compound::DB01280\t-0.5722060203552246\n",
      "Compound::DB06234\t-0.5734094977378845\n",
      "Compound::DB09421\t-0.5738120079040527\n",
      "Compound::DB00501\t-0.5753771662712097\n",
      "Compound::DB13318\t-0.577002763748169\n",
      "Compound::DB01911\t-0.577847421169281\n",
      "Compound::DB08473\t-0.5789288878440857\n",
      "Compound::DB00441\t-0.5800231695175171\n",
      "Compound::DB02947\t-0.580772340297699\n",
      "Compound::DB06433\t-0.5816883444786072\n",
      "Compound::DB03716\t-0.5827279090881348\n",
      "Compound::DB04975\t-0.5832397937774658\n",
      "Compound::DB04119\t-0.5871087908744812\n",
      "Compound::DB00799\t-0.5875870585441589\n",
      "Compound::DB00140\t-0.5885469913482666\n",
      "Compound::DB02600\t-0.5896406173706055\n",
      "Compound::DB01073\t-0.5903074741363525\n",
      "Compound::DB04441\t-0.5903074741363525\n",
      "Compound::DB06812\t-0.5904490947723389\n",
      "Compound::DB04425\t-0.5906298160552979\n",
      "Compound::DB09327\t-0.590894877910614\n",
      "Compound::DB04478\t-0.593724250793457\n",
      "Compound::DB01140\t-0.5945817232131958\n",
      "Compound::DB00552\t-0.594916045665741\n",
      "Compound::DB00822\t-0.5950776934623718\n",
      "Compound::DB06659\t-0.5986783504486084\n",
      "Compound::DB03133\t-0.5995624661445618\n",
      "Compound::DB13871\t-0.5996778011322021\n",
      "Compound::DB07058\t-0.5996790528297424\n",
      "Compound::DB01051\t-0.6021848320960999\n",
      "Compound::DB05352\t-0.602283239364624\n",
      "Compound::DB14763\t-0.6036396026611328\n",
      "Compound::DB03696\t-0.604213297367096\n",
      "Compound::DB08878\t-0.6054247617721558\n",
      "Compound::DB13912\t-0.6054672002792358\n",
      "Compound::DB00995\t-0.60633784532547\n",
      "Compound::DB06346\t-0.6064809560775757\n",
      "Compound::DB01177\t-0.606623649597168\n",
      "Compound::DB03172\t-0.6078146696090698\n",
      "Compound::DB11125\t-0.6079497337341309\n",
      "Compound::DB11175\t-0.6092793345451355\n",
      "Compound::DB01150\t-0.6093641519546509\n",
      "Compound::DB11410\t-0.6097615957260132\n",
      "Compound::DB07170\t-0.609946608543396\n",
      "Compound::DB01179\t-0.610427975654602\n",
      "Compound::DB13967\t-0.6105495095252991\n",
      "Compound::DB09132\t-0.6106467247009277\n",
      "Compound::DB06816\t-0.6107504367828369\n",
      "Compound::DB02796\t-0.6116819977760315\n",
      "Compound::DB12989\t-0.6118325591087341\n",
      "Compound::DB06530\t-0.6119207143783569\n",
      "Compound::DB08751\t-0.6120150089263916\n",
      "Compound::DB12569\t-0.6145331859588623\n",
      "Compound::DB13465\t-0.6153549551963806\n",
      "Compound::DB09064\t-0.6158310770988464\n",
      "Compound::DB00772\t-0.6159117817878723\n",
      "Compound::DB00563\t-0.616262674331665\n",
      "Compound::DB06263\t-0.6165667772293091\n",
      "Compound::DB07784\t-0.6176251173019409\n",
      "Compound::DB00577\t-0.6184235215187073\n",
      "Compound::DB11888\t-0.6186654567718506\n",
      "Compound::DB12617\t-0.6202701926231384\n"
     ]
    }
   ],
   "source": [
    "# Check edge score\n",
    "print(len(ersilia_embeddings))\n",
    "ersilia_score = edge_score(ersilia_embeddings)\n",
    "# print(ersilia_score)"
   ]
  },
  {
   "cell_type": "markdown",
   "metadata": {},
   "source": [
    "## Compare the scores to determine the best embeddings\n",
    "Use the R-squared score metric to see if the embedding edge score matches the original embedding edge score.\n",
    "\n",
    "**Do you think I should make sure the dictionaries are not sorted based on their edge scores before comparing them with the R-squared metric?**\n",
    "\n",
    "Since different drugs are in each list (top 100), this may not be a good approach to evaluating the best embedding."
   ]
  },
  {
   "cell_type": "code",
   "execution_count": 1,
   "metadata": {},
   "outputs": [],
   "source": [
    "# from sklearn.metrics import r2_score\n",
    "\n",
    "# # Calculate R^2\n",
    "# r_squared_mf = r2_score(list(original_score.values()), list(mf_score.values()))\n",
    "# r_squared_mfc = r2_score(list(original_score.values()), list(mfc_score.values()))\n",
    "# r_squared_ersilia = r2_score(list(original_score.values()), list(ersilia_score.values()))\n",
    "\n",
    "# print(f\"The R^2 score for the Morgan FingerPrint embedding is: {r_squared_mf}\")\n",
    "# print(f\"The R^2 score for the Morgan FingerPrint Count embedding is: {r_squared_mfc}\")\n",
    "# print(f\"The R^2 score for the Ersilia embedding is: {r_squared_ersilia}\")"
   ]
  },
  {
   "cell_type": "markdown",
   "metadata": {},
   "source": [
    "I'll also try using Mean Squared Error."
   ]
  },
  {
   "cell_type": "code",
   "execution_count": 2,
   "metadata": {},
   "outputs": [],
   "source": [
    "# from sklearn.metrics import mean_squared_error\n",
    "\n",
    "# mse_mf = mean_squared_error(list(original_score.values()), list(mf_score.values()))\n",
    "# mse_mfc = mean_squared_error(list(original_score.values()), list(mfc_score.values()))\n",
    "# mse_ersilia = mean_squared_error(list(original_score.values()), list(ersilia_score.values()))\n",
    "\n",
    "# print(f\"The Mean Squared Error for the Morgan FingerPrint embedding is: {mse_mf}\")\n",
    "# print(f\"The Mean Squared Error for the Morgan FingerPrint Count embedding is: {mse_mfc}\")\n",
    "# print(f\"The Mean Squared Error for the Ersilia embedding is: {mse_ersilia}\")"
   ]
  },
  {
   "cell_type": "code",
   "execution_count": null,
   "metadata": {},
   "outputs": [],
   "source": []
  }
 ],
 "metadata": {
  "kernelspec": {
   "display_name": "Python 3 (ipykernel)",
   "language": "python",
   "name": "python3"
  },
  "language_info": {
   "codemirror_mode": {
    "name": "ipython",
    "version": 3
   },
   "file_extension": ".py",
   "mimetype": "text/x-python",
   "name": "python",
   "nbconvert_exporter": "python",
   "pygments_lexer": "ipython3",
   "version": "3.10.13"
  }
 },
 "nbformat": 4,
 "nbformat_minor": 4
}
