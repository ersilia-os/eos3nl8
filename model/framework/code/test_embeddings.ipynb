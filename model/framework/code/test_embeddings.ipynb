{
 "cells": [
  {
   "cell_type": "markdown",
   "metadata": {},
   "source": [
    "# Testing with the Original Embeddings from the CSV file and the Embeddings from the Morgan Fingerprint model"
   ]
  },
  {
   "cell_type": "markdown",
   "metadata": {},
   "source": [
    "## COVID-19 Drug Repurposing via disease-compounds relations\n",
    "This example shows how to do drug repurposing using DRKG even with the pretrained model."
   ]
  },
  {
   "cell_type": "code",
   "execution_count": 1,
   "metadata": {},
   "outputs": [
    {
     "name": "stderr",
     "output_type": "stream",
     "text": [
      "2023-12-13 14:57:55.822677: I tensorflow/tsl/cuda/cudart_stub.cc:28] Could not find cuda drivers on your machine, GPU will not be used.\n",
      "2023-12-13 14:57:56.149083: E tensorflow/compiler/xla/stream_executor/cuda/cuda_dnn.cc:9342] Unable to register cuDNN factory: Attempting to register factory for plugin cuDNN when one has already been registered\n",
      "2023-12-13 14:57:56.149124: E tensorflow/compiler/xla/stream_executor/cuda/cuda_fft.cc:609] Unable to register cuFFT factory: Attempting to register factory for plugin cuFFT when one has already been registered\n",
      "2023-12-13 14:57:56.150741: E tensorflow/compiler/xla/stream_executor/cuda/cuda_blas.cc:1518] Unable to register cuBLAS factory: Attempting to register factory for plugin cuBLAS when one has already been registered\n",
      "2023-12-13 14:57:56.321514: I tensorflow/tsl/cuda/cudart_stub.cc:28] Could not find cuda drivers on your machine, GPU will not be used.\n",
      "2023-12-13 14:57:56.322754: I tensorflow/core/platform/cpu_feature_guard.cc:182] This TensorFlow binary is optimized to use available CPU instructions in performance-critical operations.\n",
      "To enable the following instructions: AVX2 FMA, in other operations, rebuild TensorFlow with the appropriate compiler flags.\n",
      "2023-12-13 14:57:57.930767: W tensorflow/compiler/tf2tensorrt/utils/py_utils.cc:38] TF-TRT Warning: Could not find TensorRT\n"
     ]
    }
   ],
   "source": [
    "import csv\n",
    "import numpy as np\n",
    "import pandas as pd\n",
    "import sys\n",
    "import torch as th\n",
    "import torch.nn.functional as fn\n",
    "\n",
    "import tensorflow as tf\n",
    "from tensorflow import keras\n",
    "from rdkit import Chem\n",
    "from rdkit.Chem import AllChem\n",
    "from rdkit.Chem import rdMolDescriptors as rd\n",
    "from eosce.models import ErsiliaCompoundEmbeddings"
   ]
  },
  {
   "cell_type": "markdown",
   "metadata": {},
   "source": [
    "## Collecting COVID-19 related disease\n",
    "At the very beginning we need to collect a list of disease of Corona-Virus(COV) in DRKG. We can easily use the Disease ID that DRKG uses for encoding the disease. Here we take all of the COV disease as target."
   ]
  },
  {
   "cell_type": "code",
   "execution_count": 2,
   "metadata": {},
   "outputs": [],
   "source": [
    "COV_disease_list = [\n",
    "'Disease::SARS-CoV2 E',\n",
    "'Disease::SARS-CoV2 M',\n",
    "'Disease::SARS-CoV2 N',\n",
    "'Disease::SARS-CoV2 Spike',\n",
    "'Disease::SARS-CoV2 nsp1',\n",
    "'Disease::SARS-CoV2 nsp10',\n",
    "'Disease::SARS-CoV2 nsp11',\n",
    "'Disease::SARS-CoV2 nsp12',\n",
    "'Disease::SARS-CoV2 nsp13',\n",
    "'Disease::SARS-CoV2 nsp14',\n",
    "'Disease::SARS-CoV2 nsp15',\n",
    "'Disease::SARS-CoV2 nsp2',\n",
    "'Disease::SARS-CoV2 nsp4',\n",
    "'Disease::SARS-CoV2 nsp5',\n",
    "'Disease::SARS-CoV2 nsp5_C145A',\n",
    "'Disease::SARS-CoV2 nsp6',\n",
    "'Disease::SARS-CoV2 nsp7',\n",
    "'Disease::SARS-CoV2 nsp8',\n",
    "'Disease::SARS-CoV2 nsp9',\n",
    "'Disease::SARS-CoV2 orf10',\n",
    "'Disease::SARS-CoV2 orf3a',\n",
    "'Disease::SARS-CoV2 orf3b',\n",
    "'Disease::SARS-CoV2 orf6',\n",
    "'Disease::SARS-CoV2 orf7a',\n",
    "'Disease::SARS-CoV2 orf8',\n",
    "'Disease::SARS-CoV2 orf9b',\n",
    "'Disease::SARS-CoV2 orf9c',\n",
    "'Disease::MESH:D045169',\n",
    "'Disease::MESH:D045473',\n",
    "'Disease::MESH:D001351',\n",
    "'Disease::MESH:D065207',\n",
    "'Disease::MESH:D028941',\n",
    "'Disease::MESH:D058957',\n",
    "'Disease::MESH:D006517'\n",
    "]"
   ]
  },
  {
   "cell_type": "markdown",
   "metadata": {},
   "source": [
    "## Treatment relation"
   ]
  },
  {
   "cell_type": "markdown",
   "metadata": {},
   "source": [
    "Two treatment relations in this context"
   ]
  },
  {
   "cell_type": "code",
   "execution_count": 3,
   "metadata": {},
   "outputs": [],
   "source": [
    "treatment = ['Hetionet::CtD::Compound:Disease','GNBR::T::Compound:Disease']"
   ]
  },
  {
   "cell_type": "markdown",
   "metadata": {},
   "source": [
    "## Using Original Embeddings"
   ]
  },
  {
   "cell_type": "code",
   "execution_count": 4,
   "metadata": {},
   "outputs": [
    {
     "name": "stdout",
     "output_type": "stream",
     "text": [
      "[[-0.27149197 -0.5939862  -0.37011808 ... -0.50732565  0.15921181\n",
      "  -0.67021894]\n",
      " [-0.4293835  -0.35515165 -0.45263517 ...  0.6304008   0.44173548\n",
      "  -0.43939406]\n",
      " [-0.6724328  -0.2223129  -0.5301088  ...  0.37865484  0.36450392\n",
      "  -0.3003229 ]\n",
      " ...\n",
      " [ 0.16583948  0.6799841  -0.5094551  ... -0.6383422  -0.52847636\n",
      "  -0.60481673]\n",
      " [ 0.5265029   0.631999   -0.58314145 ...  0.52151537 -0.53969806\n",
      "   0.5051691 ]\n",
      " [-0.5288267  -0.43796182 -0.6211387  ... -0.58782583 -0.57391274\n",
      "  -0.54813313]]\n"
     ]
    }
   ],
   "source": [
    "# Read the input file with the SMILES and original embedding columns\n",
    "input_df = pd.read_csv('smiles_embeddings_infer_drugs.csv')\n",
    "drug_smiles = input_df['SMILES']\n",
    "original_embeddings = input_df.iloc[:, 3:].values\n",
    "print(original_embeddings)"
   ]
  },
  {
   "cell_type": "code",
   "execution_count": 5,
   "metadata": {},
   "outputs": [],
   "source": [
    "gamma = 12.0\n",
    "\n",
    "def transE_l2(head, rel, tail):\n",
    "    score = head + rel - tail\n",
    "    return gamma - th.norm(score, p=2, dim=-1)\n",
    "\n",
    "\n",
    "def edge_score(embeddings):\n",
    "    '''Function to calculate the edge scores.\n",
    "\n",
    "    Argument\n",
    "    ---------\n",
    "    embeddings (array). Array of size 400 containing \n",
    "            the embeddings of the SMILES molecule.\n",
    "\n",
    "    Returns\n",
    "    --------\n",
    "    scores (tensor). Tensor showing the edge score for \n",
    "            each disease based on the drug_embeddings, relation_embeddings,\n",
    "            and COVID_disease embeddings.\n",
    "    '''\n",
    "    \n",
    "    # Load entity and relation mapping files\n",
    "    entity_idmap_file = '../data/embed/entities.tsv'\n",
    "    relation_idmap_file = '../data/embed/relations.tsv'\n",
    "\n",
    "    # Get drugname/disease name to entity ID mappings\n",
    "    entity_map = {}\n",
    "    entity_id_map = {}\n",
    "    relation_map = {}\n",
    "    \n",
    "    with open(entity_idmap_file, newline='', encoding='utf-8') as csvfile:\n",
    "        reader = csv.DictReader(csvfile, delimiter='\\t', fieldnames=['name', 'id'])\n",
    "        for row_val in reader:\n",
    "            entity_map[row_val['name']] = int(row_val['id'])\n",
    "            entity_id_map[int(row_val['id'])] = row_val['name']\n",
    "\n",
    "    with open(relation_idmap_file, newline='', encoding='utf-8') as csvfile:\n",
    "        reader = csv.DictReader(csvfile, delimiter='\\t', fieldnames=['name', 'id'])\n",
    "        for row_val in reader:\n",
    "            relation_map[row_val['name']] = int(row_val['id'])\n",
    "\n",
    "    # Handle the ID mapping\n",
    "    # drug_ids = [entity_map[smi] for smi in input_df['SMILES']]\n",
    "    disease_ids = [entity_map[disease] for disease in COV_disease_list]\n",
    "    treatment_rid = [relation_map[treat] for treat in treatment]\n",
    "\n",
    "    # Load embeddings\n",
    "    entity_emb = np.load('../data/embed/DRKG_TransE_l2_entity.npy')\n",
    "    rel_emb = np.load('../data/embed/DRKG_TransE_l2_relation.npy')\n",
    "\n",
    "    disease_ids = th.tensor(disease_ids).long()\n",
    "    treatment_rid = th.tensor(treatment_rid)\n",
    "\n",
    "    drug_emb = th.tensor(embeddings)\n",
    "    treatment_embs = [th.tensor(rel_emb[rid]) for rid in treatment_rid]\n",
    "\n",
    "    scores_per_disease = []\n",
    "    for rid in range(len(treatment_embs)):\n",
    "        treatment_emb = treatment_embs[rid]\n",
    "        for disease_id in disease_ids:\n",
    "            disease_emb = entity_emb[disease_id]\n",
    "            score = fn.logsigmoid(transE_l2(drug_emb, treatment_emb, disease_emb))\n",
    "            scores_per_disease.append(score)\n",
    "        \n",
    "    scores = th.cat(scores_per_disease)\n",
    "    return scores"
   ]
  },
  {
   "cell_type": "code",
   "execution_count": 10,
   "metadata": {},
   "outputs": [
    {
     "name": "stdout",
     "output_type": "stream",
     "text": [
      "tensor([-4.3944, -4.2768, -4.0842,  ..., -6.8248, -5.9643, -6.4361],\n",
      "       dtype=torch.float64)\n"
     ]
    }
   ],
   "source": [
    "# Check edge score\n",
    "scores = edge_score(original_embeddings)\n",
    "print(scores)"
   ]
  },
  {
   "cell_type": "markdown",
   "metadata": {},
   "source": [
    "The output at this point matches that in the original code."
   ]
  },
  {
   "cell_type": "code",
   "execution_count": 11,
   "metadata": {},
   "outputs": [],
   "source": [
    "# print(len(scores))"
   ]
  },
  {
   "cell_type": "markdown",
   "metadata": {},
   "source": [
    "## Using Morgan Fingerprint model predicted embeddings"
   ]
  },
  {
   "cell_type": "code",
   "execution_count": 12,
   "metadata": {},
   "outputs": [
    {
     "name": "stderr",
     "output_type": "stream",
     "text": [
      "[15:11:30] Unusual charge on atom 0 number of radical electrons set to zero\n"
     ]
    },
    {
     "name": "stdout",
     "output_type": "stream",
     "text": [
      "The length of drug smiles is: 6521\n",
      "The length of morgan_fingerprints is: 6521\n",
      "[[0. 0. 0. ... 0. 0. 0.]\n",
      " [0. 1. 0. ... 0. 0. 0.]\n",
      " [0. 1. 0. ... 0. 0. 0.]\n",
      " ...\n",
      " [0. 0. 0. ... 0. 1. 0.]\n",
      " [0. 1. 0. ... 0. 0. 0.]\n",
      " [0. 0. 0. ... 0. 0. 0.]]\n"
     ]
    }
   ],
   "source": [
    "def calculate_morgan_fingerprint(smiles_series, radius=2, n_bits=2048):\n",
    "    '''Function to convert SMILES to fingerprint using the Morgan Fingerprint for a Pandas Series.\n",
    "\n",
    "    Parameters\n",
    "    -----------\n",
    "    smiles_series (Pandas Series): Series containing SMILES of the compounds.\n",
    "    radius (int): controls the radius of the fingerprint.\n",
    "    n_bits (int): controls the length of the fingerprint bit vector.\n",
    "\n",
    "    Returns\n",
    "    -------\n",
    "    fingerprints (NumPy Array): fingerprints of SMILES in the input series\n",
    "    '''\n",
    "    fingerprints = []\n",
    "\n",
    "    for smiles in smiles_series:\n",
    "        # Convert the input SMILES string into an RDKit molecule object.\n",
    "        mol = Chem.MolFromSmiles(smiles)\n",
    "        # If the molecule conversion is successful, then generate the fingerprint\n",
    "        if mol is not None:\n",
    "            fingerprint = AllChem.GetMorganFingerprintAsBitVect(mol, radius, nBits=n_bits)\n",
    "            arr = np.zeros((1,))\n",
    "            AllChem.DataStructs.ConvertToNumpyArray(fingerprint, arr)\n",
    "            fingerprints.append(arr)\n",
    "\n",
    "    return np.array(fingerprints)\n",
    "\n",
    "\n",
    "morgan_fingerprints = calculate_morgan_fingerprint(drug_smiles)\n",
    "print(\"The length of drug smiles is:\", len(drug_smiles))\n",
    "print(\"The length of morgan_fingerprints is:\", len(morgan_fingerprints))\n",
    "print(morgan_fingerprints)"
   ]
  },
  {
   "cell_type": "code",
   "execution_count": 13,
   "metadata": {},
   "outputs": [
    {
     "name": "stdout",
     "output_type": "stream",
     "text": [
      "  1/204 [..............................] - ETA: 25s"
     ]
    },
    {
     "name": "stderr",
     "output_type": "stream",
     "text": [
      "2023-12-13 15:11:33.026778: W tensorflow/tsl/framework/cpu_allocator_impl.cc:83] Allocation of 53420032 exceeds 10% of free system memory.\n"
     ]
    },
    {
     "name": "stdout",
     "output_type": "stream",
     "text": [
      "204/204 [==============================] - 1s 6ms/step\n",
      "[[-0.14539145 -0.07305996 -0.28591534 ... -0.17516898  0.1930192\n",
      "  -0.24724808]\n",
      " [-0.19003028 -0.01532836 -0.34017324 ... -0.03350564  0.27475265\n",
      "  -0.4107109 ]\n",
      " [-0.18157184 -0.18642853 -0.53062004 ... -0.19943923  0.17700678\n",
      "  -0.42576954]\n",
      " ...\n",
      " [ 0.15702343  0.5273648  -0.18834566 ...  0.09023038 -0.00148031\n",
      "  -0.07461459]\n",
      " [ 0.26712334  0.35497493 -0.05726355 ...  0.06099455  0.00921259\n",
      "   0.13521963]\n",
      " [-0.14691627  0.14291099 -0.08404915 ... -0.0940645   0.15892325\n",
      "  -0.3037098 ]]\n"
     ]
    }
   ],
   "source": [
    "# load the saved model\n",
    "model = keras.models.load_model(\"mf_model\")\n",
    "\n",
    "# predict the embeddings of the drug Morgan fingerprints\n",
    "mf_embeddings = model.predict(morgan_fingerprints)\n",
    "print(mf_embeddings)"
   ]
  },
  {
   "cell_type": "code",
   "execution_count": 14,
   "metadata": {},
   "outputs": [
    {
     "name": "stdout",
     "output_type": "stream",
     "text": [
      "tensor([-2.9399, -3.2392, -3.1096,  ..., -4.1541, -3.6757, -2.6378])\n"
     ]
    }
   ],
   "source": [
    "# Check edge score\n",
    "scores = edge_score(mf_embeddings)\n",
    "print(scores)"
   ]
  },
  {
   "cell_type": "markdown",
   "metadata": {},
   "source": [
    "## Using Morgan Fingerprint Count Embeddings"
   ]
  },
  {
   "cell_type": "code",
   "execution_count": 15,
   "metadata": {},
   "outputs": [
    {
     "name": "stderr",
     "output_type": "stream",
     "text": [
      "[15:11:37] Unusual charge on atom 0 number of radical electrons set to zero\n"
     ]
    },
    {
     "name": "stdout",
     "output_type": "stream",
     "text": [
      "The length of drug smiles is: 6521\n",
      "The length of morgan_fingerprint_counts is: 6521\n",
      "[[0 0 0 ... 0 0 0]\n",
      " [0 2 0 ... 0 0 0]\n",
      " [0 1 0 ... 0 0 0]\n",
      " ...\n",
      " [0 0 0 ... 0 1 0]\n",
      " [0 1 0 ... 0 0 0]\n",
      " [0 0 0 ... 0 0 0]]\n"
     ]
    }
   ],
   "source": [
    "def calculate_morgan_fingerprint_count(smiles_series, radius=2, n_bits=2048):\n",
    "    '''Function to convert SMILES to fingerprint using the Morgan Fingerprint Count for a Pandas Series.\n",
    "\n",
    "    Parameters\n",
    "    -----------\n",
    "    smiles_series (Pandas Series): Series containing SMILES of the compounds.\n",
    "    radius (int): controls the radius of the fingerprint.\n",
    "    n_bits (int): controls the length of the fingerprint bit vector.\n",
    "\n",
    "    Returns\n",
    "    -------\n",
    "    fingerprints (NumPy Array): fingerprints of SMILES in the input series\n",
    "    '''\n",
    "    fingerprints = []\n",
    "\n",
    "    for smiles in smiles_series:\n",
    "        # Convert the input SMILES string into an RDKit molecule object.\n",
    "        mol = Chem.MolFromSmiles(smiles)\n",
    "        # If the molecule conversion is successful, then generate the fingerprint\n",
    "        if mol is not None:\n",
    "            fingerprint = rd.GetHashedMorganFingerprint(mol, radius=radius, nBits=n_bits)\n",
    "            arr = np.zeros((n_bits,), dtype=np.uint8)\n",
    "            for idx, count in fingerprint.GetNonzeroElements().items():\n",
    "                arr[idx] = count if count < 255 else 255\n",
    "            fingerprints.append(arr)\n",
    "\n",
    "    return np.array(fingerprints)\n",
    "\n",
    "\n",
    "morgan_fingerprint_counts = calculate_morgan_fingerprint_count(drug_smiles)\n",
    "print(\"The length of drug smiles is:\", len(drug_smiles))\n",
    "print(\"The length of morgan_fingerprint_counts is:\", len(morgan_fingerprint_counts))\n",
    "print(morgan_fingerprint_counts)"
   ]
  },
  {
   "cell_type": "code",
   "execution_count": 16,
   "metadata": {},
   "outputs": [
    {
     "name": "stdout",
     "output_type": "stream",
     "text": [
      " 27/204 [==>...........................] - ETA: 0s"
     ]
    },
    {
     "name": "stderr",
     "output_type": "stream",
     "text": [
      "2023-12-13 15:11:38.760866: W tensorflow/tsl/framework/cpu_allocator_impl.cc:83] Allocation of 53420032 exceeds 10% of free system memory.\n"
     ]
    },
    {
     "name": "stdout",
     "output_type": "stream",
     "text": [
      "204/204 [==============================] - 1s 4ms/step\n",
      "[[-0.06825772  0.30465627 -0.12158845 ... -0.12277345  0.2011324\n",
      "  -0.23716313]\n",
      " [-0.20824523 -0.01959234 -0.48053306 ...  0.12968855  0.3793604\n",
      "  -0.48335794]\n",
      " [-0.08968617  0.09335519 -0.5797926  ... -0.05975341  0.31130734\n",
      "  -0.5547119 ]\n",
      " ...\n",
      " [ 0.20823444  0.6298635  -0.24004918 ...  0.13009495  0.05724981\n",
      "   0.09389218]\n",
      " [ 0.15205142  0.5382722  -0.35446736 ...  0.25447556 -0.01474598\n",
      "   0.1489524 ]\n",
      " [ 0.04268427  0.48600382 -0.48005092 ...  0.08301169  0.08417349\n",
      "   0.06148876]]\n"
     ]
    }
   ],
   "source": [
    "# load the saved model\n",
    "model = keras.models.load_model(\"mfcount_model\")\n",
    "\n",
    "# predict the embeddings of the drug Morgan fingerprints\n",
    "mfcount_embeddings = model.predict(morgan_fingerprints)\n",
    "print(mfcount_embeddings)"
   ]
  },
  {
   "cell_type": "code",
   "execution_count": 17,
   "metadata": {},
   "outputs": [
    {
     "name": "stdout",
     "output_type": "stream",
     "text": [
      "tensor([-3.1572, -3.8949, -3.5096,  ..., -4.8646, -3.9417, -4.0792])\n"
     ]
    }
   ],
   "source": [
    "# Check edge score\n",
    "scores = edge_score(mfcount_embeddings)\n",
    "print(scores)"
   ]
  },
  {
   "cell_type": "markdown",
   "metadata": {},
   "source": [
    "## Using Ersilia Embeddings"
   ]
  },
  {
   "cell_type": "code",
   "execution_count": 18,
   "metadata": {},
   "outputs": [
    {
     "name": "stderr",
     "output_type": "stream",
     "text": [
      "[15:15:43] Unusual charge on atom 0 number of radical electrons set to zero\n"
     ]
    },
    {
     "name": "stdout",
     "output_type": "stream",
     "text": [
      "The length of drug smiles is: 6521\n",
      "The length of ersilia descriptor is: 6521\n",
      "[[[ 0.0257058  -0.04700303  0.0038386  ... -0.04954001  0.00230189\n",
      "    0.06074152]]\n",
      "\n",
      " [[-0.01488564  0.00200031  0.0076263  ... -0.02522343  0.00974543\n",
      "   -0.05920968]]\n",
      "\n",
      " [[ 0.03319988  0.00829009  0.11105975 ... -0.06268101 -0.05922099\n",
      "   -0.13830455]]\n",
      "\n",
      " ...\n",
      "\n",
      " [[ 0.14135769  0.04299419 -0.05294156 ... -0.11926071 -0.04383421\n",
      "   -0.07094503]]\n",
      "\n",
      " [[-0.00320739 -0.07315785  0.02023898 ... -0.00566167 -0.04526901\n",
      "    0.02813001]]\n",
      "\n",
      " [[ 0.05420799  0.01565388 -0.06837106 ... -0.04647554 -0.05509707\n",
      "    0.00550069]]]\n"
     ]
    }
   ],
   "source": [
    "def calculate_ersilia_fingerprint(smiles_series):\n",
    "    '''Function to convert SMILES to embedding using the Ersilia Compound Embeddings\n",
    "\n",
    "    Parameters\n",
    "    -----------\n",
    "    smiles_series (Pandas Series): Series containing SMILES of the compounds.\n",
    "    \n",
    "    Returns\n",
    "    -------\n",
    "    embeddings (NumPy Array): embeddings of SMILES in the input series\n",
    "    '''\n",
    "    fingerprints = []\n",
    "\n",
    "    for smiles in smiles_series:\n",
    "        model = ErsiliaCompoundEmbeddings()\n",
    "        embeddings = model.transform([smiles])\n",
    "        fingerprints.append(embeddings)\n",
    "\n",
    "    return np.array(fingerprints)\n",
    "\n",
    "\n",
    "ersilia_descriptor = calculate_ersilia_fingerprint(drug_smiles)\n",
    "print(\"The length of drug smiles is:\", len(drug_smiles))\n",
    "print(\"The length of ersilia descriptor is:\", len(ersilia_descriptor))\n",
    "print(ersilia_descriptor)"
   ]
  },
  {
   "cell_type": "code",
   "execution_count": 21,
   "metadata": {},
   "outputs": [
    {
     "name": "stdout",
     "output_type": "stream",
     "text": [
      "1024\n"
     ]
    }
   ],
   "source": [
    "# print(len(ersilia_descriptor[0][0]))"
   ]
  },
  {
   "cell_type": "code",
   "execution_count": 22,
   "metadata": {},
   "outputs": [
    {
     "name": "stdout",
     "output_type": "stream",
     "text": [
      "1/1 [==============================] - 0s 84ms/step\n",
      "[[ 1.23500451e-02  1.34906679e-01 -4.87938166e-01 -1.68315038e-01\n",
      "   4.05608594e-01 -8.20174217e-02 -4.66677874e-01 -2.94600576e-01\n",
      "  -1.19865827e-01  3.35172147e-01  3.57053995e-01  8.99758376e-03\n",
      "  -3.56139764e-02 -1.46388426e-01  3.75670344e-01  1.07170455e-03\n",
      "   5.01852930e-01 -2.06135258e-01  2.57657111e-01 -3.19362700e-01\n",
      "   4.43136811e-01  4.05331671e-01  5.49726188e-01 -4.46288198e-01\n",
      "   1.07390694e-01 -1.38347358e-01 -3.24173160e-02  5.01109898e-01\n",
      "  -6.82170168e-02  6.12666197e-02  5.21888509e-02  1.56537339e-01\n",
      "  -3.29866827e-01 -1.00155145e-01 -2.22854614e-01  2.49571279e-01\n",
      "   1.44717276e-01 -1.87215786e-02  2.50452906e-01 -4.91102636e-02\n",
      "  -3.36343706e-01 -2.48707116e-01 -3.81335378e-01 -3.28976691e-01\n",
      "  -2.20031410e-01 -6.57672733e-02  1.88272700e-01 -1.48133442e-01\n",
      "  -3.16198796e-01  6.11623488e-02 -3.51283252e-01  1.35894135e-01\n",
      "  -1.28927175e-02  4.43492413e-01 -1.28066875e-02 -4.86826092e-01\n",
      "  -3.97345662e-01  2.53090143e-01 -3.20880115e-03 -4.62222248e-01\n",
      "  -2.87712812e-01  2.27418065e-01 -6.00248314e-02 -2.59622484e-01\n",
      "   8.84068906e-02 -1.14180535e-01  2.06122965e-01 -4.49494332e-01\n",
      "  -1.63187087e-01 -3.09468478e-01 -4.74016070e-02 -2.67171681e-01\n",
      "   2.35585034e-01  2.43234143e-01 -1.60651356e-01 -2.48908609e-01\n",
      "   6.21847808e-03 -5.51191807e-01  2.33393371e-01 -5.33794403e-01\n",
      "   2.20063493e-01 -5.11401296e-02 -3.55998218e-01 -3.83866131e-01\n",
      "   5.45520671e-02  3.21048290e-01  3.22904646e-01  3.44013542e-01\n",
      "   5.65123081e-01 -3.11665714e-01  5.22398710e-01  1.31609112e-01\n",
      "   6.01262040e-02  1.41783301e-02  1.56742126e-01  1.52178109e-05\n",
      "   3.38799775e-01 -2.81997062e-02  1.24052376e-01 -3.30279395e-03\n",
      "   1.80792809e-02 -3.51923704e-01 -3.74685347e-01 -3.16811502e-01\n",
      "  -4.19462591e-01  4.24724370e-01  3.46439153e-01 -1.87792808e-01\n",
      "  -2.88585812e-01  3.35863352e-01  2.52038389e-01 -1.50306344e-01\n",
      "  -2.02841491e-01  6.23089522e-02  5.22740960e-01  1.15482576e-01\n",
      "   4.03821111e-01 -4.05181497e-01  2.85988033e-01  3.76401424e-01\n",
      "  -2.14454755e-01  5.11581041e-02  2.28658393e-01  2.14182943e-01\n",
      "   3.61442506e-01 -4.33122396e-01  3.54663610e-01  9.85756610e-03\n",
      "   5.03785551e-01 -1.84870690e-01  4.11601245e-01 -1.57322332e-01\n",
      "   3.57382089e-01  1.74995840e-01  3.64224836e-02 -1.67980388e-01\n",
      "  -2.06882358e-01  5.26796468e-02  2.15257362e-01  3.91060174e-01\n",
      "  -2.02438459e-01 -3.86569619e-01 -2.13686228e-01  4.42401543e-02\n",
      "   2.59768188e-01  4.93081331e-01  2.59352833e-01 -2.82302797e-01\n",
      "  -4.25182939e-01  1.25627056e-01 -2.44215026e-01 -2.28987649e-01\n",
      "   3.57853383e-01 -1.53460443e-01  2.84201473e-01  2.72200525e-01\n",
      "  -1.56537578e-01  1.40995696e-01 -1.99793056e-01 -4.10044864e-02\n",
      "  -1.20966882e-01  1.90525293e-01 -1.96303517e-01 -3.38697255e-01\n",
      "  -8.35495219e-02 -1.96106315e-01 -8.28195512e-02 -1.77613571e-02\n",
      "   6.99491650e-02 -3.00426185e-01 -5.01646474e-02 -1.32797807e-01\n",
      "  -1.53023414e-02  3.20333719e-01  1.48243144e-01 -1.12095967e-01\n",
      "  -1.78995728e-01  5.13955712e-01  2.21219063e-01  2.66952157e-01\n",
      "   4.83708620e-01 -3.70603465e-02 -1.33597210e-01 -1.80460453e-01\n",
      "   1.70117483e-01  3.11150938e-01 -4.73566264e-01  1.81156620e-01\n",
      "  -3.18196982e-01 -5.73891521e-01 -2.63128519e-01  2.96799392e-01\n",
      "   1.72061160e-01  2.48457730e-01  4.43376541e-01  2.82307893e-01\n",
      "  -3.37289780e-01 -5.90924695e-02 -4.11195755e-01  1.92516387e-01\n",
      "   3.87315214e-01 -3.99891615e-01  4.69941914e-01  1.53509006e-01\n",
      "  -3.44813734e-01  3.12839955e-01  1.97398648e-01  3.18332553e-01\n",
      "   3.20747674e-01 -1.19444644e-02  1.64418653e-01 -3.99892032e-01\n",
      "  -3.82576346e-01  2.49366313e-01 -3.87555391e-01 -4.02358323e-02\n",
      "   1.15667149e-01  1.90948755e-01 -4.33975071e-01 -3.62733901e-01\n",
      "  -3.38817149e-01  2.92865671e-02  4.23127860e-01  2.26735473e-01\n",
      "   1.35784194e-01  1.45320684e-01  1.37573108e-01 -4.32683498e-01\n",
      "  -1.81701928e-01  2.66302794e-01  3.60745609e-01 -3.60779881e-01\n",
      "   5.21531045e-01  2.63227105e-01  3.94757539e-01  1.25892460e-01\n",
      "   1.95668072e-01 -5.15807122e-02 -3.25706691e-01  1.66628018e-01\n",
      "   3.51647407e-01 -3.84645760e-02 -1.90189496e-01  1.78626463e-01\n",
      "   4.77017701e-01  7.81672373e-02 -1.91453099e-01 -1.43795654e-01\n",
      "  -1.08529389e-01 -1.89435154e-01 -2.08024636e-01 -8.12608749e-02\n",
      "   2.81979352e-01 -3.53943139e-01  1.71840250e-01  7.12438077e-02\n",
      "   2.07031056e-01 -2.18335047e-01  1.06378384e-01 -1.19477086e-01\n",
      "   2.36525267e-01  1.78190380e-01  1.70239225e-01 -3.59660149e-01\n",
      "   1.14291675e-01  1.69678211e-01  1.19164111e-02  2.19057143e-01\n",
      "  -2.21250847e-01  3.73683929e-01 -1.81277871e-01  5.47135830e-01\n",
      "  -3.78089473e-02 -1.43194363e-01  4.98094231e-01  3.30765754e-01\n",
      "  -3.11510831e-01  3.25385779e-01 -3.34121168e-01  1.48730263e-01\n",
      "   8.81136954e-02  9.65426117e-02  4.56399173e-02  4.60318327e-02\n",
      "  -3.58918488e-01  3.48576009e-01  6.99870959e-02  1.93097651e-01\n",
      "   8.66606012e-02 -2.50826061e-01 -2.70718366e-01 -1.59581825e-01\n",
      "   3.06911133e-02 -4.04831588e-01  2.24913046e-01 -3.49612117e-01\n",
      "   3.68507087e-01 -4.15604532e-01 -1.69569969e-01  4.15186733e-01\n",
      "   3.06358457e-01  7.46813416e-02 -1.59538075e-01 -4.89718765e-01\n",
      "  -2.40802735e-01 -3.77893865e-01 -4.54386741e-01  3.74660306e-02\n",
      "   3.96839291e-01  3.20110545e-02  1.87730223e-01 -2.81538963e-01\n",
      "  -4.54872966e-01  4.70533632e-02  8.28519240e-02 -4.00061071e-01\n",
      "   5.15073501e-02  5.44128418e-01  4.06579494e-01 -1.50491726e-02\n",
      "   2.05865845e-01 -4.87731457e-01 -1.21314451e-03  3.82427841e-01\n",
      "  -2.68646449e-01  8.85120258e-02 -4.29010987e-01 -1.19288892e-01\n",
      "  -5.43833196e-01 -3.20253313e-01 -2.80866414e-01  2.13455595e-02\n",
      "   3.46413046e-01 -1.67788506e-01 -1.59831569e-02 -1.59849778e-01\n",
      "  -1.30141899e-01 -1.99931771e-01 -1.20098323e-01 -4.18061793e-01\n",
      "   2.54740492e-02 -8.41253549e-02  5.64941525e-01 -4.63260829e-01\n",
      "   2.04773247e-01 -2.27649301e-01 -3.03789247e-02 -2.07419634e-01\n",
      "  -6.48156330e-02  2.73812115e-01 -1.90425873e-01  2.52876073e-01\n",
      "   1.29331410e-01 -1.86706521e-03 -1.29008353e-01 -5.45974895e-02\n",
      "   3.28046203e-01 -4.38728213e-01 -2.56856382e-01  3.22663248e-01\n",
      "  -6.67878846e-03  1.52235925e-01  1.99190542e-01  4.64066379e-02\n",
      "  -2.97672212e-01 -1.08387783e-01 -1.67053655e-01 -4.37144071e-01\n",
      "  -1.80059075e-01  2.51034230e-01  4.05441523e-02  5.72324216e-01\n",
      "   3.35675538e-01 -2.11741179e-01  3.95363420e-01 -4.80356365e-01\n",
      "  -1.65793315e-01 -3.52819055e-01 -1.36191756e-01 -2.23925531e-01\n",
      "   2.53325880e-01  1.64353102e-01  3.43782127e-01  1.98652878e-01\n",
      "  -4.20592219e-01  3.34744692e-01 -2.79509813e-01  1.93355486e-01\n",
      "   5.37456870e-01  9.95187908e-02  2.30106041e-01 -2.36413684e-02\n",
      "  -3.18090141e-01 -3.33828554e-02  1.78643122e-01 -4.58188921e-01\n",
      "  -3.68501812e-01 -1.97198495e-01  4.83718634e-01 -4.53925073e-01]]\n",
      "Edge Scores\n",
      "tensor([-3.3663, -2.8131, -3.6976, -3.2498, -3.8153, -3.0084, -3.5008, -2.4336,\n",
      "        -3.1083, -2.9541, -2.6891, -2.9321, -3.1732, -2.5566, -2.3554, -3.0088,\n",
      "        -2.7336, -3.1064, -3.4721, -3.2787, -3.2335, -2.6544, -3.7149, -2.2778,\n",
      "        -3.3766, -2.9625, -3.2577, -3.9878, -3.7024, -3.5172, -3.8869, -3.3540,\n",
      "        -2.6490, -3.8055, -2.6191, -2.0473, -3.2613, -2.2349, -2.4810, -2.2731,\n",
      "        -2.3505, -2.2066, -2.6324, -2.1656, -2.2493, -2.1529, -2.2224, -2.3980,\n",
      "        -2.3040, -2.7817, -2.2394, -2.4537, -2.5508, -2.6107, -2.1481, -2.3712,\n",
      "        -2.1046, -2.1017, -2.2027, -2.7527, -2.0768, -0.8974, -2.7230, -2.8249,\n",
      "        -2.4615, -2.8771, -2.4983, -3.2203])\n"
     ]
    }
   ],
   "source": [
    "# load the saved model\n",
    "model = keras.models.load_model(\"ersilia_model\")\n",
    "\n",
    "# predict the embeddings of the Ersilia descriptor\n",
    "ersilia_embeddings = model.predict(ersilia_descriptor[0])\n",
    "print(ersilia_embeddings)\n",
    "\n",
    "# Check edge score\n",
    "scores = edge_score(ersilia_embeddings)\n",
    "print(\"Edge Scores\")\n",
    "print(scores)"
   ]
  },
  {
   "cell_type": "code",
   "execution_count": null,
   "metadata": {},
   "outputs": [],
   "source": []
  },
  {
   "cell_type": "code",
   "execution_count": null,
   "metadata": {},
   "outputs": [],
   "source": []
  },
  {
   "cell_type": "code",
   "execution_count": null,
   "metadata": {},
   "outputs": [],
   "source": []
  }
 ],
 "metadata": {
  "kernelspec": {
   "display_name": "Python 3 (ipykernel)",
   "language": "python",
   "name": "python3"
  },
  "language_info": {
   "codemirror_mode": {
    "name": "ipython",
    "version": 3
   },
   "file_extension": ".py",
   "mimetype": "text/x-python",
   "name": "python",
   "nbconvert_exporter": "python",
   "pygments_lexer": "ipython3",
   "version": "3.10.13"
  }
 },
 "nbformat": 4,
 "nbformat_minor": 4
}
